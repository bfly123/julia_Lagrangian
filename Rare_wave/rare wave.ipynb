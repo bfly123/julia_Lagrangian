{
 "cells": [
  {
   "cell_type": "markdown",
   "metadata": {},
   "source": [
    "#  一. 预算决定波系分类\n",
    "\n",
    "If we consider all the elastic and plastic waves, there are 4*4 sixteen possible cases. For simple, we only  consider the cases in the left side and samilar process will be taken in the right.\n",
    "<img src=\"Case1.png\" width = \"350\" height = \"350\" div align=center />\n",
    "<center> Case 1\n",
    "<img src=\"Case2.png\" width = \"350\" height = \"350\" div align=center />\n",
    "    Case 2\n",
    "    <img src=\"Case3.png\" width = \"350\" height = \"350\" div align=center />\n",
    "    Case 3\n",
    "<img src=\"Case4.png\" width = \"350\" height = \"350\" div align=center />\n",
    "    Case 4\n"
   ]
  },
  {
   "cell_type": "markdown",
   "metadata": {},
   "source": [
    "## 通过HLLCE进行预算\n",
    "考虑双弹性波情况\n",
    "<img src=\"Case5.png\" width = \"350\" height = \"350\" div align=center />\n",
    " <center>   With only plastic or plastic shock wave"
   ]
  },
  {
   "cell_type": "markdown",
   "metadata": {},
   "source": [
    "By using the relation of $u_L^* =u_R^* = s^*$, the speed of contact wave can be evaluated as\n",
    "\\begin{equation}\n",
    " \\hat{s}^* = \\frac{\\sigma_L-\\sigma_R+\\rho_L u_L(s_L-u_L)-\\rho_R u_R(s_R-u_R)}{\\rho_L(s_L-u_L)-\\rho_R(s_R-u_R)},\n",
    "\\end{equation}\n",
    "the density is solved as\n",
    "\\begin{equation}\\label{eq:rhoLs}\n",
    "  \\hat{\\rho}_L^* = \\frac{\\rho_L(u_L-s_L)}{\\hat{s}^*-s_L}.\n",
    "\\end{equation}\n",
    "Similarly, the density behind the right going wave can be given as\n",
    "\\begin{equation}\n",
    "  \\hat{\\rho}_R^* = \\frac{\\rho_R(u_R-s_R)}{\\hat{s}^*-s_R}.\n",
    "\\end{equation}\n",
    "\n"
   ]
  },
  {
   "cell_type": "markdown",
   "metadata": {},
   "source": [
    "The deviatoric stress is evaluated as\n",
    "\\begin{equation}  \\label{sxx1}\n",
    "  \\hat{s}_{xxL}^*=-\\frac{4}{3}\\mu\\text{ln}(\\frac{\\hat{\\rho}_L^*}{\\rho_L})+s_{xxL}, \\quad   \\hat{s}_{xxR}^*=-\\frac{4}{3}\\mu\\text{ln}(\\frac{\\hat{\\rho}_R^*}{\\rho_R})+s_{xxR}.\n",
    "\\end{equation}\n",
    "\n",
    "If the speeds of left and right going waves are given, we can evaluate all states in the star regions on the two sides of  the contact wave. Here we define the speeds of left and right going waves as\n",
    "    \\begin{equation}\n",
    "      s_L = \\text{min} (u_L-c_L, u_R-c_R, 0),  \\quad s_R = \\text{max}(u_L+c_L, u_R+c_R, 0).\n",
    "    \\end{equation}\n"
   ]
  },
  {
   "cell_type": "code",
   "execution_count": 4,
   "metadata": {},
   "outputs": [
    {
     "data": {
      "text/plain": [
       "Presolve (generic function with 1 method)"
      ]
     },
     "execution_count": 4,
     "metadata": {},
     "output_type": "execute_result"
    }
   ],
   "source": [
    "function Presolve(varL::Var, varR::Var, conL::Const,conR::Const)\n",
    "        \n",
    "    ρL, uL, pL, sxxL = varL.ρ, varL.u, varL.p, varL.sxx\n",
    "    ρR, uR, pR, sxxR = varR.ρ, varR.u, varR.p, varR.sxx\n",
    "    σL  = -pL+sxxL\n",
    "    \n",
    "    UL = [ρL, uL, pL, sxxL]\n",
    "    UR = [ρR, uR, pR, sxxR]\n",
    "    cL = sound(UL[:],conL)\n",
    "   # eL = PToe(ρL, pL, conL)\n",
    "    \n",
    "    σR  = -pR+sxxR\n",
    "    cR = sound(UR[:],conR)\n",
    "  #  eR = PToe(ρR, pR, conR)\n",
    "    \n",
    "    sL = min(uL-cL, uR-cR)\n",
    "    sR = max(uL+cL, uR+cR)\n",
    "        \n",
    "    s_star = (σL - σR + ρL*uL*(sL-uL) - ρR* uR*(sR-uR))/(ρL*(sL-uL)-ρR*(sR-uR))\n",
    "        \n",
    "    ρLstar = ρL*(uL-sL)/(s_star - sL)\n",
    "    ρRstar = ρR*(uR-sR)/(s_star - sR)\n",
    "        \n",
    "    sxxLstar =  sxxL -4/3*conL.μ *(log(ρLstar) - log(ρL))\n",
    "    sxxRstar =  sxxR -4/3*conR.μ *(log(ρRstar) - log(ρR))\n",
    " #   @show sxxLstar, sxxRstar,ρLstar,ρRstar\n",
    "    caseL = CaseSelect(sxxL,sxxLstar, ρL, ρLstar,conL,1)\n",
    "    caseR = CaseSelect(sxxR,sxxRstar, ρR, ρRstar,conR,2)\n",
    "    return caseL, caseR\n",
    "end"
   ]
  },
  {
   "cell_type": "markdown",
   "metadata": {},
   "source": [
    "## 分类\n",
    "Also consider the cases in the left, \n",
    "### Case 1\n",
    "The deviatoric stress satisfies \n",
    "$$| \\hat{s}_{xxL}^* | \\ge  \\frac{2}{3}Y_0   \\quad \\text{and} \\quad | s_{xxL} | \\ge  \\frac{2}{3}Y_0 \\quad  \\\\\\text{or} \\quad | \\hat{s}_{xxL}^* | \\lt  \\frac{2}{3}Y_0   \\quad \\text{and} \\quad | s_{xxL} | \\lt  \\frac{2}{3}Y_0 $$ \n",
    "\n",
    "The density satisfies\n",
    "    $$ \\hat{\\rho}_L^* < \\rho_L$$\n"
   ]
  },
  {
   "cell_type": "markdown",
   "metadata": {},
   "source": [
    "### Case 2\n",
    "The deviatoric stress satisfies \n",
    "$$| \\hat{s}_{xxL}^* | \\ge  \\frac{2}{3}Y_0   \\quad \\text{and} \\quad | s_{xxL} | \\lt  \\frac{2}{3}Y_0  $$ \n",
    "\n",
    "The density satisfies\n",
    "    $$ \\hat{\\rho}_L^* < \\rho_L$$"
   ]
  },
  {
   "cell_type": "markdown",
   "metadata": {},
   "source": [
    "### Case 3\n",
    "The deviatoric stress satisfies \n",
    "$$| \\hat{s}_{xxL}^* | \\ge  \\frac{2}{3}Y_0   \\quad \\text{and} \\quad | s_{xxL} | \\ge  \\frac{2}{3}Y_0 \\quad  \\\\\\text{or} \\quad | \\hat{s}_{xxL}^* | \\lt  \\frac{2}{3}Y_0   \\quad \\text{and} \\quad | s_{xxL} | \\lt  \\frac{2}{3}Y_0 $$ \n",
    "The density satisfies\n",
    "    $$ \\hat{\\rho}_L^* > \\rho_L$$\n"
   ]
  },
  {
   "cell_type": "markdown",
   "metadata": {},
   "source": [
    "### Case 4\n",
    "The deviatoric stress satisfies \n",
    "$$| \\hat{s}_{xxL}^* | \\ge  \\frac{2}{3}Y_0   \\quad \\text{and} \\quad | s_{xxL} | \\lt  \\frac{2}{3}Y_0  $$ \n",
    "\n",
    "The density satisfies\n",
    "    $$ \\hat{\\rho}_L^* > \\rho_L$$"
   ]
  },
  {
   "cell_type": "code",
   "execution_count": 5,
   "metadata": {},
   "outputs": [
    {
     "data": {
      "text/plain": [
       "CaseSelect (generic function with 1 method)"
      ]
     },
     "execution_count": 5,
     "metadata": {},
     "output_type": "execute_result"
    }
   ],
   "source": [
    "function CaseSelect(sxx₀::Float64, sxx₁::Float64,ρ₀::Float64, ρ₁::Float64,con::Const,LoR::Int)\n",
    "    Y0 = con.Y0\n",
    "      if abs(sxx₁) ≥ 2/3*Y0  && abs(sxx₀) < 2/3*Y0   \n",
    "        if ρ₁ > ρ₀\n",
    "            if LoR == 1\n",
    "                case = Shock(2) # 左侧双激波\n",
    "            else\n",
    "                case = Shock(4) # 右侧双激波 \n",
    "            end\n",
    "        else\n",
    "            if LoR == 1\n",
    "                case = Rare(2) # case2 Left\n",
    "            else\n",
    "                case = Rare(4) # case2 Right\n",
    "            end\n",
    "        end\n",
    "    else\n",
    "        if ρ₁ > ρ₀\n",
    "            if LoR == 1\n",
    "                case = Shock(1) # case3\n",
    "                else\n",
    "                case = Shock(3)\n",
    "            end\n",
    "        else\n",
    "            if LoR == 1\n",
    "                case = Rare(1) #case1 Left\n",
    "            else\n",
    "                case = Rare(3)\n",
    "            end\n",
    "        end\n",
    "    end\n",
    "    return case\n",
    "end"
   ]
  },
  {
   "cell_type": "code",
   "execution_count": null,
   "metadata": {},
   "outputs": [],
   "source": []
  },
  {
   "cell_type": "markdown",
   "metadata": {},
   "source": [
    "## 1 左侧膨胀波\n",
    "\n",
    "<img src=\"Case1.png\" width = \"500\" height = \"500\" div align=center />\n",
    "如图，根据膨胀波关系式有\n",
    "\n",
    "\\begin{equation}\n",
    "    du+\\frac{c}{\\rho} d\\rho= 0\\\\\n",
    "    d\\sigma +c^2 d\\rho = 0\n",
    "\\end{equation}\n",
    " where $\\sigma = -p +s_{xx}$, and \n",
    " \\begin{equation}\n",
    "    dp-S^2d\\rho = 0\\\\\n",
    "    ds_{xx}+\\frac{4\\mu}{3\\rho} d\\rho= 0 \n",
    "    \\end{equation}\n",
    "Integration from $Q_L$ to $Q^*_L$\n",
    "\\begin{equation}\n",
    "u_L^* =- \\int_{\\rho_L}^{\\rho^*_L}\\frac{c}{\\rho}d\\rho + u_L\\\\\n",
    "\\sigma_L^* = -\\int_{\\rho_L}^{\\rho^*_L} c^2 d\\rho +\\sigma_L\n",
    "\\end{equation}\n",
    "and \n",
    "\\begin{equation}\n",
    "p_L^* = \\int_{\\rho_L}^{\\rho^*_L}S^2 d\\rho + p_L\\\\\n",
    "s_{xxL}^* = -\\int_{\\rho_L}^{\\rho^*_L} \\frac{4\\mu}{3\\rho} d\\rho +s_{xxL}\n",
    "\\end{equation}\n"
   ]
  },
  {
   "cell_type": "markdown",
   "metadata": {},
   "source": [
    "For right side\n",
    "\\begin{equation}\n",
    "u_R^* = \\int_{\\rho_R}^{\\rho^*_R}\\frac{c}{\\rho}d\\rho + u_R\\\\\n",
    "\\sigma_R^* = -\\int_{\\rho_R}^{\\rho^*_R} c^2 d\\rho +\\sigma_R\n",
    "\\end{equation}\n",
    "and \n",
    "\\begin{equation}\n",
    "p_R^* = \\int_{\\rho_R}^{\\rho^*_R}S^2 d\\rho + p_R\\\\\n",
    "s_{xxR}^* = -\\int_{\\rho_R}^{\\rho^*_R} \\frac{4\\mu}{3\\rho} d\\rho +s_{xxR}\n",
    "\\end{equation}"
   ]
  },
  {
   "cell_type": "code",
   "execution_count": 6,
   "metadata": {},
   "outputs": [],
   "source": [
    "struct Shock\n",
    "    cs::Int\n",
    "end\n",
    "\n",
    "struct Rare\n",
    "    cs::Int\n",
    "    \n",
    "end\n",
    "##case 说明  cs=1 为左单波 cs=2 为左双波\n",
    "##          cs=3 为右单波 cs= 4 为右双波"
   ]
  },
  {
   "cell_type": "markdown",
   "metadata": {},
   "source": [
    "$s_{xxL}^*$ can be given directly as\n",
    "$$s_{xx}(\\rho) = s_{xxL} - \\frac{4}{3}\\mu [\\text{ln}(\\rho) - \\text{ln}(\\rho_L)] $$\n"
   ]
  },
  {
   "cell_type": "code",
   "execution_count": 7,
   "metadata": {},
   "outputs": [
    {
     "data": {
      "text/plain": [
       "Sxx (generic function with 1 method)"
      ]
     },
     "execution_count": 7,
     "metadata": {},
     "output_type": "execute_result"
    }
   ],
   "source": [
    "function Sxx(ρ, var0::Var, con::Const)\n",
    "    sxx0,ρ0 = var0.sxx,var0.ρ\n",
    "    Y0   = con.Y0\n",
    "    \n",
    "    sxx = sxx0 -4/3*con.μ *(log(ρ) - log(ρ0))\n",
    "    if abs(sxx) ≥ 2/3*Y0\n",
    "        sxx = 2/3*Y0*sign(sxx)\n",
    "    end\n",
    "    return sxx\n",
    "end"
   ]
  },
  {
   "cell_type": "markdown",
   "metadata": {},
   "source": [
    "Then we evaluate $p_L^*$, as\n",
    "$$S^2 = a^2 - \\rho_0 \\Gamma_0 \\frac{s_{xx}}{\\rho^2} = a_0^2\\frac{\\partial f}{\\partial \\eta}+\\frac{p}{\\rho^2}\\rho_0\\Gamma_0-\\rho_0 \\Gamma_0\\frac{s_{xx}}{\\rho^2}$$\n"
   ]
  },
  {
   "cell_type": "markdown",
   "metadata": {},
   "source": [
    "So \n",
    "$p(\\rho)$ is in the form of \n",
    "$$ \\tag{2.1} p(\\rho) = \\int_{\\rho_L}^{\\rho} \\lambda_1 \\frac{p}{\\rho^2}+ f_2(\\rho) d\\rho + p_L$$\n",
    "where \n",
    "$$ \\lambda_1 = \\rho_0 \\Gamma_0 \\quad f_2(\\rho) = a_0^2\\frac{\\partial f}{\\partial \\eta}- \\lambda_1\\frac{s_{xx}(\\rho)}{\\rho^2}$$\n",
    "it can be written in the different form as\n"
   ]
  },
  {
   "cell_type": "markdown",
   "metadata": {},
   "source": [
    "$$p'(\\rho) - \\lambda_1 \\frac{p}{\\rho^2} = f_2(\\rho), \\quad p(\\rho_L) = p_L$$ \n",
    "it can be solved out as \n",
    "$$ p(\\rho) = p_Le^{\\frac{\\lambda_1}{\\rho_L}-\\frac{\\lambda_1}{\\rho}} +e^{-\\frac{\\lambda_1}{\\rho}}\\int_{\\rho_L}^\\rho f_2(\\rho) e^{\\frac{\\lambda_1}{x}}dx$$"
   ]
  },
  {
   "cell_type": "code",
   "execution_count": 8,
   "metadata": {},
   "outputs": [
    {
     "data": {
      "text/plain": [
       "fp (generic function with 1 method)"
      ]
     },
     "execution_count": 8,
     "metadata": {},
     "output_type": "execute_result"
    }
   ],
   "source": [
    "function fp(ρ::Float64, var0::Var, con::Const, case::Rare)\n",
    "    ρ₀,p₀ = var0.ρ,var0.p\n",
    "    ρ0,Γ0,a0= con.ρ0,con.Γ0,con.a0   \n",
    "    λ₁ = ρ0*Γ0\n",
    "    f2(ρ) =a0^2*fηη(ρ, con) -λ₁*Sxx(ρ, var0,con)/ρ^2\n",
    "\n",
    "    p = p₀*exp(λ₁/ρ₀ - λ₁/ρ) + exp(-λ₁/ρ)*GaussIntegral(ρ->\n",
    "       f2(ρ)*exp(λ₁/ρ), ρ₀, ρ,5)\n",
    "    return p\n",
    "end\n",
    "#pLStar = fp(ρLStar,varL,con)"
   ]
  },
  {
   "cell_type": "markdown",
   "metadata": {},
   "source": [
    "According to $\\sigma = -p +s_{xx}$ we can get $\\sigma(\\rho)$.\n",
    "$$ g_L(\\rho^*_L) =\\sigma_L^*= -p(\\rho_L^*)+s_{xx}(\\rho_L^*)$$\n",
    "As $c^2 = S^2 +\\frac{4\\mu}{3\\rho}$, \n",
    "$$ u_L^* = u_L - \\int_{\\rho_L}^{\\rho^*_L} \n",
    "\\frac{c}{\\rho}d\\rho$$\n",
    "can be solve by the numerical integral, and \n",
    "$$ f_L(\\rho^*_L) = u_L^*$$"
   ]
  },
  {
   "cell_type": "code",
   "execution_count": 9,
   "metadata": {},
   "outputs": [
    {
     "data": {
      "text/plain": [
       "fu (generic function with 1 method)"
      ]
     },
     "execution_count": 9,
     "metadata": {},
     "output_type": "execute_result"
    }
   ],
   "source": [
    "function fu(ρ::Float64, var0::Var, con::Const,case::Rare)\n",
    "    ρ₀,u₀ = var0.ρ, var0.u\n",
    "    a0,ρ0,Γ0,μ= con.a0, con.ρ0, con.Γ0, con.μ\n",
    "    λ₁ = ρ0*Γ0\n",
    "    S2(ρ) = a0^2*fηη(ρ,con)+λ₁*(fp(ρ,var0,con,case)-Sxx(ρ,var0,con))/ρ^2\n",
    "    function f2(ρ)\n",
    "        if case.cs == 1 &&  case.cs ==2\n",
    "            return -√(S2(ρ)+4con.μ/(3ρ)) /ρ\n",
    "        else\n",
    "            return √(S2(ρ)+4con.μ/(3ρ)) /ρ\n",
    "        end\n",
    "    end\n",
    "    \n",
    "    u = u₀ + GaussIntegral(ρ->f2(ρ), ρ₀, ρ, 5)\n",
    "    return u\n",
    "end"
   ]
  },
  {
   "cell_type": "markdown",
   "metadata": {},
   "source": [
    "### 数值积分\n",
    "We use the Gaussian quadradure to intergrate the integrations above.\n",
    "\n",
    "For a function $f(x)$,  the intergration from $-1$ to $1$ is given as\n",
    "$$ \n",
    "  \\int_{-1}^1 f(x)dx \\approx \\sum_{i=0}^n \\omega_i f(p_i)\n",
    "$$\n",
    "$\\omega_i$ is the weight, and $p_i$ is the integrating point.\n",
    "For different orders they are listed as\n",
    "\n",
    "|number of points,$n$| Points, $p_i$| Weights, $\\omega_i$|\n",
    "|:-----|-----:|:-----:|\n",
    "|1     |0     |2      |\n",
    "|2     |$\\pm \\frac{1}{\\sqrt{3}}$| 1|\n",
    "|3     |0, $\\pm \\sqrt{\\frac{3}{5}}$| $\\frac{8}{9}$,$\\frac{5}{9}$, $\\frac{5}{9}$|\n",
    "\n",
    "For a integral over $[x_0,x_1]$, this change of interval can be done as \n",
    " $$ \\int_{x_0}^{x_1}f(x) dx= \\frac{x_1-x_0}{2}\\int_{-1}^{1} f(\\frac{x_1-x_0}{2}x+\\frac{x_0+x_1}{2})dx\n",
    " $$"
   ]
  },
  {
   "cell_type": "code",
   "execution_count": 10,
   "metadata": {},
   "outputs": [
    {
     "data": {
      "text/plain": [
       "GaussIntegral (generic function with 1 method)"
      ]
     },
     "execution_count": 10,
     "metadata": {},
     "output_type": "execute_result"
    }
   ],
   "source": [
    "function GaussIntegral(f::Function,x₀::Float64,x₁::Float64,order::Int)\n",
    "    t₁= (x₁-x₀)/2\n",
    "    t₂= (x₁+x₀)/2\n",
    "    ω = zeros(Float64, 5)\n",
    "    p = zeros(Float64, 5)\n",
    "    \n",
    "    if order == 1\n",
    "        ω[1] = 2.0\n",
    "        p[1] = 0.0\n",
    "    elseif order == 3\n",
    "        ω[1] = 1.0; ω[2] = 1.0\n",
    "        p[1] = 1/√3.0; p[2] = -1/√3.0\n",
    "    elseif order == 5\n",
    "        ω[1] = 8.0/9; ω[2] = 5.0/9; ω[3] = 5.0/9\n",
    "        p[1] = 0.0; p[2] = -√(3.0/5); p[3] = √(3.0/5)\n",
    "    elseif order == 7\n",
    "        ω[1] = (18+√30)/36; ω[2] = (18+√30)/36\n",
    "        ω[3] = (18-√30)/36; ω[4] = (18-√30)/36\n",
    "        p[1] = √(3/7-2/7*√(6/5)); p[1] = -√(3/7-2/7*√(6/5))\n",
    "        p[3] = √(3/7+2/7*√(6/5)); p[4] = -√(3/7+2/7*√(6/5))\n",
    "    end\n",
    "    ∑ =sum( t₁*ω[i]*f(t₁*p[i]+t₂) for i in 1:floor(Int,order/2)+1)\n",
    "\n",
    "    return ∑\n",
    "end"
   ]
  },
  {
   "cell_type": "markdown",
   "metadata": {},
   "source": [
    "## 2 左侧双膨胀波\n",
    "<img src=\"Case2.png\" width = \"500\" height = \"500\" div align=center />"
   ]
  },
  {
   "cell_type": "markdown",
   "metadata": {},
   "source": [
    "### 弹性稀疏波后状态\n",
    " In the region $\\widetilde{Q}_L$\n",
    "$$\n",
    "  \\widetilde{s}_{xxL} =\\frac{2}{3}Y_0\n",
    "$$\n",
    "and the density is\n",
    "$$ \\widetilde{\\rho}_L = \\rho_L \\text{exp}\\left(-\\frac{Y_0}{2\\mu}+\\frac{3 s_{xxL}}{4\\mu}\\right)$$\n"
   ]
  },
  {
   "cell_type": "markdown",
   "metadata": {},
   "source": [
    "According to ($2.1$) we can solve the pressure $\\widetilde{p}_L$ ,then the velocity $\\widetilde{u}_L$  is solved out."
   ]
  },
  {
   "cell_type": "code",
   "execution_count": 11,
   "metadata": {},
   "outputs": [
    {
     "data": {
      "text/plain": [
       "Ṽar (generic function with 1 method)"
      ]
     },
     "execution_count": 11,
     "metadata": {},
     "output_type": "execute_result"
    }
   ],
   "source": [
    "function Ṽar(var0::Var, case, con::Const)\n",
    "\n",
    "    Y0, μ= con.Y0, con.μ\n",
    "    sxx,ρ = var0.sxx,var0.ρ\n",
    "\n",
    "    cs = case.cs\n",
    "    if cs == 1 || cs == 3\n",
    "        var1 = var0\n",
    "    elseif cs == 2 || cs == 4\n",
    "        \n",
    "        if typeof(case) == Rare \n",
    "            sxx1 = 2/3*Y0\n",
    "            ρ1 = ρ*exp(-Y0/(2μ)+(3sxx)/(4μ))\n",
    "        elseif typeof(case) == Shock\n",
    "            sxx1 = -2/3*Y0\n",
    "            ρ1 = ρ*exp(Y0/(2μ)+(3sxx)/(4μ))\n",
    "        end\n",
    "        p1 = fp(ρ, var0, con, case)\n",
    "        u1 = fu(ρ, var0, con, case)\n",
    "    \n",
    "        var1= Var(ρ1, u1, p1, sxx1)\n",
    "    end\n",
    "    return var1\n",
    "end\n"
   ]
  },
  {
   "cell_type": "markdown",
   "metadata": {},
   "source": [
    "### From state $\\widetilde{Q}_L$  to state $Q_L^*$ \n",
    "\n",
    "The process is same to Case 1. "
   ]
  },
  {
   "cell_type": "markdown",
   "metadata": {},
   "source": [
    "## 3 左侧激波\n",
    "\n",
    "<img src=\"Case3.png\" width = \"500\" height = \"500\" div align=center />\n",
    "According to the ralation of Runkine-Hugoniot,\n",
    "\n",
    "\\begin{equation} \\tag{1.2}\n",
    "F_L^*=F_L+s_L(U_L^*-U_L)\n",
    "  \\end{equation}\n"
   ]
  },
  {
   "cell_type": "markdown",
   "metadata": {},
   "source": [
    "As is\n",
    "\\begin{align}\n",
    "    &\\rho^*_L(u^*_L-s_L) = \\rho_L(u_L-s_L), \\tag{1.3}\\\\\n",
    "    &\\rho^*_Lu^*_L(u^*_L-s_L) = \\rho_Lu_L(u_L-s_L)+\\sigma^*_L-\\sigma_L,  \\tag{1.4}\\\\\n",
    "    &\\rho^*_LE^*_L(u^*_L-s_L) = \\rho_LE_L(u_L-s_L)+\\sigma^*_L u^*_L-\\sigma_Lu_L, \\tag{1.5}\\\\\n",
    "\\end{align}\n"
   ]
  },
  {
   "cell_type": "markdown",
   "metadata": {},
   "source": [
    "According to ($1.3$) we have \n",
    "\\begin{equation}\\tag{1.6}\n",
    "s_L = \\frac{\\rho_L^* u_L^* - \\rho_L u_L}{\\rho_L^*-\\rho_L}\n",
    "\\end{equation}"
   ]
  },
  {
   "cell_type": "markdown",
   "metadata": {},
   "source": [
    "Subtituting ($1.3$) into ($1.4$) yields\n",
    "\\begin{equation}\\tag{1.7}\n",
    "\\rho_L(u^*_L-u_L)(u_L-s_L) = \\sigma_L^*-\\sigma_L\n",
    "\\end{equation}"
   ]
  },
  {
   "cell_type": "markdown",
   "metadata": {},
   "source": [
    "Also according to ($1.3$), we have \n",
    "\\begin{equation}\n",
    "u_L-s_L = \\frac{(u_L - u_L^*)\\rho_L^*}{\\rho_L^* -\\rho_L}\n",
    "\\end{equation}\n",
    "Then subtituting it into ($1.7$)\n",
    "\\begin{equation}\\tag{1.8}\n",
    "  -t(u^*_L-u_L)^2 = \\sigma^*_L-\\sigma_L,\n",
    "\\end{equation}\n",
    "where $ t=t=\\frac{\\rho_L \\rho^*_L}{\\rho^*_L-\\rho_L}$.\n",
    "\n",
    "Similar to (1.7), (1.5) can be changed into\n",
    "$$ \\tag{1.9} t(u_L-u^*_L)(E^*_L-E_L) =\\sigma^*_L u^*_L-\\sigma_Lu_L\n",
    "$$\n"
   ]
  },
  {
   "cell_type": "markdown",
   "metadata": {},
   "source": [
    "Because $E = e+\\frac{1}{2}u^2$, we can get \n",
    "$$ \\tag{1.10}\n",
    "e_L^* - e_L = - \\frac{\\sigma_L +\\sigma_L^*}{2t}\n",
    "$$\n",
    "Also we use the EOS of Mie-Gr\\\"uniesen  \n",
    "$$\\tag{1.11}\n",
    "  p(\\rho,e) = \\rho_0 a_0^2f(\\eta)+ \\rho_0 \\Gamma_0 e,\n",
    "$$\n",
    "can get\n",
    "$$ \\tag{1.12}\n",
    "  e=c_0 p-c_1f(\\rho/\\rho_0),\n",
    "$$\n",
    "where $c_0=\\frac{1}{\\rho_0\\Gamma_0}$ and $c_1=\\frac{a_0^2}{\\Gamma_0}$.\n",
    "\n",
    "Using (1.12), from (1.10) we can get \n",
    " $$ \\tag{1.13}\n",
    " p^*_L= \\frac{2t(c_1f(\\rho^*_L)+e_L)-(\\sigma_L+s^*_{xxL})}{2tc_0-1},\n",
    "$$"
   ]
  },
  {
   "cell_type": "markdown",
   "metadata": {},
   "source": [
    "And we use the relation of $s_{xxL}$ and $\\rho$\n",
    "$$  s_{xxL}^*=s_{xxL}^*(\\rho_L^*)=-\\frac{4}{3}\\mu\\text{ln}(\\frac{\\rho^*_{L}}{\\rho_{L}})+s_{xxL}\n",
    "$$\n",
    "we can get\n",
    "$$ \\tag{1.14} \\sigma_L^*  = \\frac{2t[c_1f(\\rho^*_L)-c_0 s_{xxL}^*(\\rho^*_L)+e_L] -\\sigma_L}{1-2tc_0}$$"
   ]
  },
  {
   "cell_type": "code",
   "execution_count": 12,
   "metadata": {},
   "outputs": [
    {
     "data": {
      "text/plain": [
       "fp (generic function with 2 methods)"
      ]
     },
     "execution_count": 12,
     "metadata": {},
     "output_type": "execute_result"
    }
   ],
   "source": [
    "function fp(ρ::Float64, var0::Var, con::Const,case::Shock)\n",
    "   \n",
    "    ρ₀,p₀,sxx₀ = var0.ρ,var0.p,var0.sxx\n",
    "    ρ0,Γ0,a0 = con.ρ0,con.Γ0,con.a0\n",
    "    \n",
    "    σ₀ = -p₀+sxx₀\n",
    "    e₀ =  PToe(ρ₀, p₀, con)\n",
    "    \n",
    "    t =  ρ₀*ρ/(ρ-ρ₀) ; c₀ = 1/(Γ0*ρ0); c₁= a0^2/Γ0\n",
    "    p = (2t*(c₁*fη(ρ) + e₀) -(σ₀+Sxx(ρ,var0,con))\n",
    "         )/(1-2t*c₀)\n",
    "    \n",
    "    return p\n",
    "end"
   ]
  },
  {
   "cell_type": "markdown",
   "metadata": {},
   "source": [
    "Using ($1.8$) we have \n",
    "$$ \\tag{1.15} \n",
    "u_L^* = u_L - \\sqrt{\\frac{\\sigma_L-\\sigma_L^*}{t}} $$\n"
   ]
  },
  {
   "cell_type": "code",
   "execution_count": 13,
   "metadata": {},
   "outputs": [
    {
     "data": {
      "text/plain": [
       "fu (generic function with 2 methods)"
      ]
     },
     "execution_count": 13,
     "metadata": {},
     "output_type": "execute_result"
    }
   ],
   "source": [
    "function fu(ρ::Float64, var0::Var, con::Const,case::Shock)\n",
    "   \n",
    "    ρ₀,u₀,p₀,sxx₀ = var0.ρ,var0.u,var0.p,var0.sxx\n",
    "    σ₀ = -p₀+sxx₀\n",
    "    \n",
    "    sxx=Sxx(ρ,var0,con)\n",
    "    p  = fp(ρ, var0, con, case)\n",
    "    σ = -p+sxx\n",
    "    \n",
    "    t =  ρ₀*ρ/(ρ-ρ₀)\n",
    "    if case.cs == 1 || case.cs == 2\n",
    "        u = u₀ - √((σ₀ - σ)/t)\n",
    "    else\n",
    "        u = u₀ + √((σ₀ - σ)/t)\n",
    "    end\n",
    "    return u\n",
    "end"
   ]
  },
  {
   "cell_type": "markdown",
   "metadata": {},
   "source": [
    "## 4 左侧双激波\n",
    "<img src=\"Case4.png\" width = \"500\" height = \"500\" div align=center />"
   ]
  },
  {
   "cell_type": "markdown",
   "metadata": {},
   "source": [
    "### 弹性激波后状态\n",
    " In the region $\\widetilde{Q}_L$\n",
    "$$\n",
    "  \\widetilde{s}_{xxL} =\\frac{2}{3}Y_0\n",
    "$$\n",
    "and the density is\n",
    "$$ \\widetilde{\\rho}_L = \\rho_L \\text{exp}\\left(\\frac{Y_0}{2\\mu}+\\frac{3 s_{xxL}}{4\\mu}\\right)$$\n",
    "From ($1.14$) and ($1.15$)  other viriables can be get.\n",
    "Then use the same process from $\\widetilde{Q}_L$ to $Q_L^*$ as Case 3. "
   ]
  },
  {
   "cell_type": "markdown",
   "metadata": {},
   "source": [
    "## 求解$\\sigma_L^*$ 和$ u_L^*$\n",
    "Let $f_{L}(\\rho^*_L) = u_L^* $ and $g_{L}(\\rho^*_L) = \\sigma_L^*$, samilarly, we let\n",
    "$f_{R}(\\rho^*_R) = u_R^*$ and $g_{R}(\\rho^*_R) = \\sigma_R^*$, we have the relation\n",
    "\\begin{equation}\\tag{1.1}\n",
    "F(\\rho^*_L,\\rho^*_R) = f_L(\\rho^*_L) - f_R(\\rho^*_R) = 0\\\\\n",
    "G(\\rho^*_L,\\rho^*_R) = g_L(\\rho^*_L) - g_R(\\rho^*_R) = 0\n",
    "\\end{equation}"
   ]
  },
  {
   "cell_type": "code",
   "execution_count": 14,
   "metadata": {},
   "outputs": [
    {
     "data": {
      "text/plain": [
       "gR¹ (generic function with 1 method)"
      ]
     },
     "execution_count": 14,
     "metadata": {},
     "output_type": "execute_result"
    }
   ],
   "source": [
    "    fL(ρ) = fu(ρ, var0L, conL, caseL)\n",
    "    fR(ρ) = fu(ρ, var0R, conR, caseR)\n",
    "    gL(ρ) = -fp(ρ,var0L,conL,caseL)+Sxx( ρ, var0L, conL)\n",
    "    gR(ρ) = -fp(ρ,var0R,conR,caseR)+Sxx( ρ, var0R, conR)\n",
    "\n",
    "    fL¹(ρ) = Derivative(fL,ρ)\n",
    "    fR¹(ρ) = Derivative(fR,ρ)\n",
    "    gL¹(ρ) = Derivative(gL,ρ)\n",
    "    gR¹(ρ) = Derivative(gR,ρ)"
   ]
  },
  {
   "cell_type": "markdown",
   "metadata": {},
   "source": [
    "\n",
    "###  牛顿迭代\n",
    "We use the newton iteration method to evaluate $\\rho^*_L$ and $\\rho^*_R$.\n",
    "\\begin{equation}\n",
    "\\left[ \\begin{array}{l}\n",
    " \\rho _{R,(k+1)}^*\\\\\n",
    "\\rho_{L,(k+1)}^*\\\\\n",
    "\\end{array}\n",
    "\\right] = \n",
    "\\left[ \\begin{array}{l}\n",
    " \\rho _{R,(k)}^*\\\\\n",
    "\\rho_{L,(k)}^*\\\\\n",
    "\\end{array}\n",
    "\\right]-\n",
    "\\left[ \\begin{array}{ll}\n",
    "\\frac{\\partial F_{(k)}}{\\partial \\rho_R^*} & \\frac{\\partial F_{(k)}}{\\partial \\rho_L^*}\\\\\n",
    "\\frac{\\partial G_{(k)}}{\\partial \\rho_R^*} & \\frac{\\partial G_{(k)}}{\\partial \\rho_L^*}\\\\\n",
    "\\end{array}\n",
    "\\right]^{-1}\n",
    "\\left[ \\begin{array}{l}\n",
    "F_{(k)}\\\\\n",
    "G_{(k)}\\\\\n",
    "\\end{array}\n",
    "\\right]\n",
    "\\end{equation}\n"
   ]
  },
  {
   "cell_type": "markdown",
   "metadata": {},
   "source": [
    "from Eq.($1.1$) we can get\n",
    "\\begin{equation}\n",
    "\\left[ \\begin{array}{l}\n",
    " \\rho _{R,(k+1)}^*\\\\\n",
    "\\rho_{L,(k+1)}^*\\\\\n",
    "\\end{array}\n",
    "\\right] = \n",
    "\\left[ \\begin{array}{l}\n",
    " \\rho _{R,(k)}^*\\\\\n",
    "\\rho_{L,(k)}^*\\\\\n",
    "\\end{array}\n",
    "\\right]-\n",
    "\\left[ \\begin{array}{ll}\n",
    "-\\frac{\\partial f_{R,(k)}}{\\partial \\rho_R^*} & \\frac{\\partial f_{L,(k)}}{\\partial \\rho_L^*}\\\\\n",
    "-\\frac{\\partial g_{R,(k)}}{\\partial \\rho_R^*} & \\frac{\\partial g_{,L(k)}}{\\partial \\rho_L^*}\\\\\n",
    "\\end{array}\n",
    "\\right]^{-1}\n",
    "\\left[ \\begin{array}{l}\n",
    "F_{(k)}\\\\\n",
    "G_{(k)}\\\\\n",
    "\\end{array}\n",
    "\\right]\n",
    "\\end{equation}\n",
    "where $\\rho_{L,(k)}^*$ and $\\rho_{R,(k)}^*$ are the k-th iteration values, $F(k) = F(\\rho^*_{L,(k)},\\rho^*_{R,(k)})$,$G(k) = G(\\rho^*_{L,(k)},\\rho^*_{R,(k)})$.\n"
   ]
  },
  {
   "cell_type": "markdown",
   "metadata": {},
   "source": [
    "$$u = u - J^{-1}F$$"
   ]
  },
  {
   "cell_type": "markdown",
   "metadata": {},
   "source": [
    "\n",
    "For a rarefaction wave in the left, the derivatives are solved by\n",
    "\\begin{equation}\n",
    "\\frac{\\partial f_{L,(k)}}{\\partial \\rho^*_{L,(k)}} = \\frac{c(\\rho^*_{L,(k)})}{\\rho^*_{L,(k)}}\\\\\n",
    "\\frac{\\partial g_{L,(k)}}{\\partial \\rho^*_{L,(k)}} = c(\\rho^*_{L,(k)})^2\n",
    "\\end{equation}"
   ]
  },
  {
   "cell_type": "markdown",
   "metadata": {},
   "source": [
    "#### 初始条件\n",
    "\n",
    "We take an intial iteration value as \n",
    "\\begin{equation}\n",
    "\\rho_{L,(0)}^* = \\rho_{R,(0)}^* = \\frac{\\rho_L +\\rho_R}{2}\n",
    "\\end{equation}"
   ]
  },
  {
   "cell_type": "code",
   "execution_count": 15,
   "metadata": {},
   "outputs": [
    {
     "data": {
      "text/plain": [
       "Derivative (generic function with 1 method)"
      ]
     },
     "execution_count": 15,
     "metadata": {},
     "output_type": "execute_result"
    }
   ],
   "source": [
    "function Derivative(f::Function,x::Float64)\n",
    "    ϵ₀ = 1e-8\n",
    "    if abs(x) >= ϵ₀\n",
    "        ϵ= ϵ₀*x\n",
    "    else\n",
    "        ϵ =ϵ₀\n",
    "    end\n",
    "    f¹(x) = (f(x+ϵ)-f(x))/ϵ\n",
    "    return f¹(x)\n",
    "end"
   ]
  },
  {
   "cell_type": "code",
   "execution_count": 16,
   "metadata": {},
   "outputs": [
    {
     "data": {
      "text/plain": [
       "NewtonIter! (generic function with 2 methods)"
      ]
     },
     "execution_count": 16,
     "metadata": {},
     "output_type": "execute_result"
    }
   ],
   "source": [
    "function NewtonIter!(U::Array{Float64,1},J::Array{Float64,2},F::Array{Float64,1}, TOL::Float64 = 1.e-6) \n",
    "    I, = size(U)\n",
    "    U_new = zeros(Float64, I)\n",
    "    while true  \n",
    "        c = max(abs(F[1]),abs(F[2]))\n",
    "        if c <= TOL\n",
    "            break\n",
    "        end\n",
    "        U_new = U - inv(J)*F # same to inv(J)×F\n",
    "   #     c= CHA(U,U_new,F)\n",
    "     #   if c <= TOL\n",
    "      #      break\n",
    "      #  end\n",
    "    end\n",
    "    return U\n",
    "    \n",
    "end   "
   ]
  },
  {
   "cell_type": "markdown",
   "metadata": {},
   "source": [
    "#### 收敛准则\n",
    "\n",
    "The iteration procedure stops with the criterion of\n",
    "$\\text{CHA}\\le \\text{TOL}$, where \n",
    "\\begin{equation}\n",
    "\\text{CHA} = \\text{max} \\left[ \n",
    "\\frac{2|(\\rho_L^*)_{(k+1)}-(\\rho_L^*)_{(k)}|}{|(\\rho_L^*)_{(k+1)}+(\\rho_L^*)_{(k)}|}, \\frac{2|(\\rho_R^*)_{(k+1)}-(\\rho_R^*)_{(k)}|}{|(\\rho_R^*)_{(k+1)}+(\\rho_R^*)_{(k)}|}, |F_{(k)}|, |G_{(k)}| \\right]\n",
    "\\end{equation}\n",
    "and TOL is a small tolerance by numerical experiments, we take as $\\text{TOL} = 10^{-6}$."
   ]
  },
  {
   "cell_type": "code",
   "execution_count": 17,
   "metadata": {},
   "outputs": [
    {
     "ename": "UndefVarError",
     "evalue": "UndefVarError: Floa64 not defined",
     "output_type": "error",
     "traceback": [
      "UndefVarError: Floa64 not defined",
      "",
      "Stacktrace:",
      " [1] top-level scope at In[17]:1"
     ]
    }
   ],
   "source": [
    "function CHA(R0::Array{Float64,1}, R1::Array{Float64,1}, F::Array{Floa64,1})\n",
    "    \n",
    "    ρₗ₀ = R0[1]; ρᵣ₀ = R0[2]\n",
    "    ρₗ₁ = R1[1]; ρᵣ₁ = R1[2]\n",
    "    \n",
    "    CHA = max(abs(2(ρₗ₁-ρₗ₀)/(ρₗ₁+ρₗ₀)),\n",
    "              abs(2(ρᵣ₁-ρᵣ₀)/(ρᵣ₁+ρᵣ₀)), F[1], F[2])\n",
    "    return CHA\n",
    "end   "
   ]
  },
  {
   "cell_type": "code",
   "execution_count": 18,
   "metadata": {},
   "outputs": [
    {
     "data": {
      "text/plain": [
       "Plastic (generic function with 1 method)"
      ]
     },
     "execution_count": 18,
     "metadata": {},
     "output_type": "execute_result"
    }
   ],
   "source": [
    "include(\"/home/bfly/workspace/Juliastudy/Lagrangian_1d-2materials.jl\")"
   ]
  },
  {
   "cell_type": "markdown",
   "metadata": {},
   "source": [
    "# 根据迭代结果重新求解左右状态\n"
   ]
  },
  {
   "cell_type": "code",
   "execution_count": 19,
   "metadata": {},
   "outputs": [
    {
     "data": {
      "text/plain": [
       "Exact_Riemann (generic function with 1 method)"
      ]
     },
     "execution_count": 19,
     "metadata": {},
     "output_type": "execute_result"
    }
   ],
   "source": [
    "function Exact_Riemann(uL::Array{Float64,1}, uR::Array{Float64,1}, conL::Const, conR::Const )\n",
    "        \n",
    "    \n",
    "    var0L = Var(uL[1],uL[2],uL[3],uL[4])\n",
    "    var0R = Var(uR[1],uR[2],uR[3],uR[4])\n",
    "    @show var0L\n",
    "    \n",
    "###预求解和分类    \n",
    "    caseL,caseR = Presolve(var0L, var0R, conL, conR)\n",
    "    @show caseL, caseR\n",
    "###求解  Q̂ \n",
    "    varL = Ṽar(var0L, caseL,conL)\n",
    "    varR = Ṽar(var0R, caseR,conR)\n",
    "    ρL, uL, pL, sxxL = varL.ρ, varL.u, varL.p, varL.sxx\n",
    "    ρR, uR, pR, sxxR = varR.ρ, varR.u, varR.p, varR.sxx\n",
    "\n",
    "    ###迭代初始化    \n",
    "    ρLStar = (ρL +ρR)/2\n",
    "    ρRStar = (ρL +ρR)/2\n",
    "   \n",
    "    fL(ρ) = fu(ρ, varL, conL, caseL)\n",
    "    fR(ρ) = fu(ρ, varR, conR, caseR)\n",
    "    gL(ρ) = -fp(ρ,varL,conL,caseL)+Sxx( ρ, varL, conL)\n",
    "    gR(ρ) = -fp(ρ,varR,conR,caseR)+Sxx( ρ, varR, conR)\n",
    "\n",
    "    fL¹(ρ) = Derivative(fL,ρ)\n",
    "    fR¹(ρ) = Derivative(fR,ρ)\n",
    "    gL¹(ρ) = Derivative(gL,ρ)\n",
    "    gR¹(ρ) = Derivative(gR,ρ)\n",
    "    \n",
    "    TOL = 1.e-6\n",
    "    while true\n",
    "      \n",
    "        J = [[-fR¹(ρRStar) fL¹(ρLStar)]; \n",
    "             [-gR¹(ρRStar) gL¹(ρLStar)]]\n",
    "    \n",
    "        U = [ρRStar, ρLStar]\n",
    "    \n",
    "        F = [fL(ρLStar)- fR(ρRStar), \n",
    "             gL(ρLStar)- gR(ρRStar)]\n",
    "        \n",
    "        c = max(abs(F[1]),abs(F[2]))  \n",
    "        if c <= TOL\n",
    "            break\n",
    "        end\n",
    "        @show J, U,F\n",
    "        U = U - inv(J)*F\n",
    "        ρRStar = U[1]\n",
    "        ρLStar = U[2]\n",
    "    end\n",
    "    \n",
    "    @show U\n",
    "    ### 重新求解\n",
    "    pLStar = fp(ρLStar, varL, conL,caseL)\n",
    "    s_Star = fu(ρLStar, varL, conL,caseL)\n",
    "    sxxLStar = Sxx(ρLStar, varL, conL)\n",
    "\n",
    "    pRStar = fp(ρRStar, varR, conR,caseR)\n",
    "    sxxRStar = Sxx(ρRStar, varR, conR)\n",
    "    fL=zeros(Float64, 4)\n",
    "    fR=zeros(Float64, 4)\n",
    "    fL[1] = 0.0\n",
    "    fL[2] = pLStar-sxxLStar\n",
    "    fL[3] = (pLStar-sxxLStar)*s_Star\n",
    "    fL[4] = -4conL.μ/3*s_Star\n",
    "    uuh = s_Star\n",
    "\n",
    "    fR[1] = 0.0\n",
    "    fR[2] = pRStar-sxxRStar\n",
    "    fR[3] = (pRStar-sxxRStar)*s_Star\n",
    "    fR[4] = -4conR.μ/3*s_Star\n",
    "    uuh = s_Star\n",
    "    \n",
    "    return fL,fR, uuh\n",
    "end"
   ]
  },
  {
   "cell_type": "code",
   "execution_count": 18,
   "metadata": {},
   "outputs": [
    {
     "data": {
      "text/plain": [
       "Array{Int64,2}"
      ]
     },
     "execution_count": 18,
     "metadata": {},
     "output_type": "execute_result"
    }
   ],
   "source": [
    "A =[[1 2]; [2 3]]\n",
    "typeof(A)"
   ]
  },
  {
   "cell_type": "code",
   "execution_count": 20,
   "metadata": {},
   "outputs": [
    {
     "name": "stdout",
     "output_type": "stream",
     "text": [
      "var0L = Var(2785.0, 0.0, 1.0e-6, 0.0)\n",
      "(caseL, caseR) = (Rare(2), Rare(4))\n",
      "(J, U, F) = ([-2.3207 2.3207; 4.13209e7 -4.13209e7], [2769.91, 2769.91], [-100.0, 0.0])\n"
     ]
    },
    {
     "ename": "DomainError",
     "evalue": "DomainError with -1.3342164451788965e11:\nlog will only return a complex result if called with a complex argument. Try log(Complex(x)).",
     "output_type": "error",
     "traceback": [
      "DomainError with -1.3342164451788965e11:\nlog will only return a complex result if called with a complex argument. Try log(Complex(x)).",
      "",
      "Stacktrace:",
      " [1] throw_complex_domainerror(::Symbol, ::Float64) at ./math.jl:31",
      " [2] log(::Float64) at ./special/log.jl:285",
      " [3] Sxx at ./In[7]:5 [inlined]",
      " [4] (::getfield(Main, Symbol(\"#f2#8\")){Var,Const,Float64,Float64})(::Float64) at ./In[8]:5",
      " [5] #7 at ./In[8]:7 [inlined]",
      " [6] #14 at ./none:0 [inlined]",
      " [7] iterate at ./generator.jl:47 [inlined]",
      " [8] mapfoldl_impl(::Function, ::Function, ::NamedTuple{(),Tuple{}}, ::Base.Generator{UnitRange{Int64},getfield(Main, Symbol(\"##14#15\")){getfield(Main, Symbol(\"##7#9\")){Float64,getfield(Main, Symbol(\"#f2#8\")){Var,Const,Float64,Float64}},Float64,Float64,Array{Float64,1},Array{Float64,1}}}) at ./reduce.jl:55",
      " [9] #mapfoldl#187 at ./reduce.jl:72 [inlined]",
      " [10] mapfoldl at ./reduce.jl:72 [inlined]",
      " [11] #mapreduce#191 at ./reduce.jl:205 [inlined]",
      " [12] mapreduce at ./reduce.jl:205 [inlined]",
      " [13] sum at ./reduce.jl:399 [inlined]",
      " [14] sum at ./reduce.jl:416 [inlined]",
      " [15] GaussIntegral(::getfield(Main, Symbol(\"##7#9\")){Float64,getfield(Main, Symbol(\"#f2#8\")){Var,Const,Float64,Float64}}, ::Float64, ::Float64, ::Int64) at ./In[10]:22",
      " [16] fp(::Float64, ::Var, ::Const, ::Rare) at ./In[8]:7",
      " [17] (::getfield(Main, Symbol(\"#S2#11\")){Var,Const,Rare,Float64,Float64})(::Float64) at ./In[9]:5",
      " [18] (::getfield(Main, Symbol(\"#f2#12\")){Const,Rare,getfield(Main, Symbol(\"#S2#11\")){Var,Const,Rare,Float64,Float64}})(::Float64) at ./In[9]:0",
      " [19] #10 at ./In[9]:14 [inlined]",
      " [20] #14 at ./none:0 [inlined]",
      " [21] iterate at ./generator.jl:47 [inlined]",
      " [22] mapfoldl_impl at ./reduce.jl:55 [inlined]",
      " [23] #mapfoldl#187 at ./reduce.jl:72 [inlined]",
      " [24] mapfoldl at ./reduce.jl:72 [inlined]",
      " [25] #mapreduce#191 at ./reduce.jl:205 [inlined]",
      " [26] mapreduce at ./reduce.jl:205 [inlined]",
      " [27] sum at ./reduce.jl:399 [inlined]",
      " [28] sum at ./reduce.jl:416 [inlined]",
      " [29] GaussIntegral(::getfield(Main, Symbol(\"##10#13\")){getfield(Main, Symbol(\"#f2#12\")){Const,Rare,getfield(Main, Symbol(\"#S2#11\")){Var,Const,Rare,Float64,Float64}}}, ::Float64, ::Float64, ::Int64) at ./In[10]:22",
      " [30] fu at ./In[9]:14 [inlined]",
      " [31] (::getfield(Main, Symbol(\"#fR#22\")){Const,Rare,Var})(::Float64) at ./In[19]:22",
      " [32] (::getfield(Main, Symbol(\"#f¹#16\")){getfield(Main, Symbol(\"#fR#22\")){Const,Rare,Var}})(::Float64) at ./In[15]:8",
      " [33] Derivative(::getfield(Main, Symbol(\"#fR#22\")){Const,Rare,Var}, ::Float64) at ./In[15]:9",
      " [34] (::getfield(Main, Symbol(\"#fR¹#26\")))(::Float64) at ./In[19]:27",
      " [35] Exact_Riemann(::Array{Float64,1}, ::Array{Float64,1}, ::Const, ::Const) at ./In[19]:34",
      " [36] top-level scope at In[20]:15"
     ]
    }
   ],
   "source": [
    "    ρ2=3985\n",
    "    u2=0.0\n",
    "    p2=1.e3\n",
    "    sxx2=0\n",
    "    \n",
    "    \n",
    "    ρ1=2785\n",
    "    u1=800.0\n",
    "    p1=1.e4\n",
    "    sxx1=6.e4\n",
    "uL = [2785, 0.0, 1.e-6,0.0]\n",
    "uR = [2785, 100.0, 1.e-6,0.0]\n",
    "conL = Const(3e8,2785,2.0,2.76e10,5328.0,1.338)\n",
    "conR = Const(3e8,2785,2.0,2.76e10,5328.0,1.338)\n",
    "fL,fR,uuh = Exact_Riemann(uL,uR,conL,conR)"
   ]
  },
  {
   "cell_type": "code",
   "execution_count": 101,
   "metadata": {},
   "outputs": [
    {
     "ename": "LinearAlgebra.SingularException",
     "evalue": "LinearAlgebra.SingularException(2)",
     "output_type": "error",
     "traceback": [
      "LinearAlgebra.SingularException(2)",
      "",
      "Stacktrace:",
      " [1] checknonsingular at /buildworker/worker/package_linux64/build/usr/share/julia/stdlib/v1.1/LinearAlgebra/src/factorization.jl:12 [inlined]",
      " [2] #lu!#103(::Bool, ::Function, ::Array{Float64,2}, ::Val{true}) at /buildworker/worker/package_linux64/build/usr/share/julia/stdlib/v1.1/LinearAlgebra/src/lu.jl:41",
      " [3] #lu! at ./none:0 [inlined]",
      " [4] #lu#107 at /buildworker/worker/package_linux64/build/usr/share/julia/stdlib/v1.1/LinearAlgebra/src/lu.jl:142 [inlined]",
      " [5] lu at /buildworker/worker/package_linux64/build/usr/share/julia/stdlib/v1.1/LinearAlgebra/src/lu.jl:142 [inlined] (repeats 2 times)",
      " [6] inv(::Array{Float64,2}) at /buildworker/worker/package_linux64/build/usr/share/julia/stdlib/v1.1/LinearAlgebra/src/dense.jl:732",
      " [7] top-level scope at In[101]:2"
     ]
    }
   ],
   "source": [
    "J = [-2.31594 2.31594; 4.16012e7 -4.16012e7]\n",
    "inv(J)"
   ]
  },
  {
   "cell_type": "code",
   "execution_count": 64,
   "metadata": {},
   "outputs": [
    {
     "name": "stdout",
     "output_type": "stream",
     "text": [
      "\"\u001b[36mfηη\u001b[39m\" can be typed by \u001b[36mf\\eta<tab>\\eta<tab>\u001b[39m\n",
      "\n",
      "search: \u001b[0m\u001b[1mf\u001b[22m\u001b[0m\u001b[1mη\u001b[22m\u001b[0m\u001b[1mη\u001b[22m\n",
      "\n"
     ]
    },
    {
     "data": {
      "text/latex": [
       "No documentation found.\n",
       "\n",
       "\\texttt{fηη} is a \\texttt{Function}.\n",
       "\n",
       "\\begin{verbatim}\n",
       "# 1 method for generic function \"fηη\":\n",
       "[1] fηη(ρ::Float64, c::Const) in Main at /home/bfly/workspace/Juliastudy/Lagrangian_1d-2materials.jl:36\n",
       "\\end{verbatim}\n"
      ],
      "text/markdown": [
       "No documentation found.\n",
       "\n",
       "`fηη` is a `Function`.\n",
       "\n",
       "```\n",
       "# 1 method for generic function \"fηη\":\n",
       "[1] fηη(ρ::Float64, c::Const) in Main at /home/bfly/workspace/Juliastudy/Lagrangian_1d-2materials.jl:36\n",
       "```\n"
      ],
      "text/plain": [
       "  No documentation found.\n",
       "\n",
       "  \u001b[36mfηη\u001b[39m is a \u001b[36mFunction\u001b[39m.\n",
       "\n",
       "\u001b[36m  # 1 method for generic function \"fηη\":\u001b[39m\n",
       "\u001b[36m  [1] fηη(ρ::Float64, c::Const) in Main at /home/bfly/workspace/Juliastudy/Lagrangian_1d-2materials.jl:36\u001b[39m"
      ]
     },
     "execution_count": 64,
     "metadata": {},
     "output_type": "execute_result"
    }
   ],
   "source": [
    "? fηη"
   ]
  },
  {
   "cell_type": "code",
   "execution_count": 46,
   "metadata": {},
   "outputs": [
    {
     "ename": "UndefVarError",
     "evalue": "UndefVarError: var0R not defined",
     "output_type": "error",
     "traceback": [
      "UndefVarError: var0R not defined",
      "",
      "Stacktrace:",
      " [1] (::getfield(Main, Symbol(\"#fR#23\")){Const,Rare})(::Float64) at ./In[26]:19",
      " [2] (::getfield(Main, Symbol(\"#f¹#8\")){getfield(Main, Symbol(\"#fR#23\")){Const,Rare}})(::Float64) at ./In[14]:8",
      " [3] Derivative(::getfield(Main, Symbol(\"#fR#23\")){Const,Rare}, ::Float64) at ./In[14]:9",
      " [4] (::getfield(Main, Symbol(\"#fR¹#27\")){getfield(Main, Symbol(\"#fR#23\")){Const,Rare}})(::Float64) at ./In[26]:24",
      " [5] Exact_Riemann(::Array{Float64,1}, ::Array{Float64,1}, ::Const, ::Const) at ./In[26]:29",
      " [6] top-level scope at In[46]:15"
     ]
    }
   ],
   "source": [
    "   ρ2=2785\n",
    "    u2=0.0\n",
    "    p2=1.e-6\n",
    "    sxx2=0\n",
    "    \n",
    "    \n",
    "    ρ1=2785\n",
    "    u1=800.0\n",
    "    p1=1.e-6\n",
    "    sxx1=6.e4\n",
    "uL = [2785, 0.0, 1.e-6,0.0]\n",
    "uR = [2785, 0.0, 1.e-6,0.0]\n",
    "conL = Const(3e8,2785,2.0,2.76e10,5328.0,1.338)\n",
    "conR = Const(3e8,2785,2.0,2.76e10,5328.0,1.338)\n",
    "fL,fR,uuh = Exact_Riemann(uL,uR,conL,conR)"
   ]
  }
 ],
 "metadata": {
  "kernelspec": {
   "display_name": "Julia 1.1.0",
   "language": "julia",
   "name": "julia-1.1"
  },
  "language_info": {
   "file_extension": ".jl",
   "mimetype": "application/julia",
   "name": "julia",
   "version": "1.1.0"
  }
 },
 "nbformat": 4,
 "nbformat_minor": 2
}
