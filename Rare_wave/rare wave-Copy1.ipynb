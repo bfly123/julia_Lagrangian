{
 "cells": [
  {
   "cell_type": "markdown",
   "metadata": {},
   "source": [
    "#  一. 预算决定波系分类\n",
    "\n",
    "If we consider all the elastic and plastic waves, there are 4*4 sixteen possible cases. For simple, we only  consider the cases in the left side and samilar process will be taken in the right.\n",
    "<img src=\"Case1.png\" width = \"350\" height = \"350\" div align=center />\n",
    "<center> Case 1\n",
    "<img src=\"Case2.png\" width = \"350\" height = \"350\" div align=center />\n",
    "    Case 2\n",
    "    <img src=\"Case3.png\" width = \"350\" height = \"350\" div align=center />\n",
    "    Case 3\n",
    "<img src=\"Case4.png\" width = \"350\" height = \"350\" div align=center />\n",
    "    Case 4\n"
   ]
  },
  {
   "cell_type": "markdown",
   "metadata": {},
   "source": [
    "## 通过HLLCE进行预算\n",
    "考虑双弹性波情况\n",
    "<img src=\"Case5.png\" width = \"350\" height = \"350\" div align=center />\n",
    " <center>   With only plastic or plastic shock wave"
   ]
  },
  {
   "cell_type": "markdown",
   "metadata": {},
   "source": [
    "By using the relation of $u_L^* =u_R^* = s^*$, the speed of contact wave can be evaluated as\n",
    "\\begin{equation}\n",
    " \\hat{s}^* = \\frac{\\sigma_L-\\sigma_R+\\rho_L u_L(s_L-u_L)-\\rho_R u_R(s_R-u_R)}{\\rho_L(s_L-u_L)-\\rho_R(s_R-u_R)},\n",
    "\\end{equation}\n",
    "the density is solved as\n",
    "\\begin{equation}\\label{eq:rhoLs}\n",
    "  \\hat{\\rho}_L^* = \\frac{\\rho_L(u_L-s_L)}{\\hat{s}^*-s_L}.\n",
    "\\end{equation}\n",
    "Similarly, the density behind the right going wave can be given as\n",
    "\\begin{equation}\n",
    "  \\hat{\\rho}_R^* = \\frac{\\rho_R(u_R-s_R)}{\\hat{s}^*-s_R}.\n",
    "\\end{equation}\n",
    "\n"
   ]
  },
  {
   "cell_type": "markdown",
   "metadata": {},
   "source": [
    "The deviatoric stress is evaluated as\n",
    "\\begin{equation}  \\label{sxx1}\n",
    "  \\hat{s}_{xxL}^*=-\\frac{4}{3}\\mu\\text{ln}(\\frac{\\hat{\\rho}_L^*}{\\rho_L})+s_{xxL}, \\quad   \\hat{s}_{xxR}^*=-\\frac{4}{3}\\mu\\text{ln}(\\frac{\\hat{\\rho}_R^*}{\\rho_R})+s_{xxR}.\n",
    "\\end{equation}\n",
    "\n",
    "If the speeds of left and right going waves are given, we can evaluate all states in the star regions on the two sides of  the contact wave. Here we define the speeds of left and right going waves as\n",
    "    \\begin{equation}\n",
    "      s_L = \\text{min} (u_L-c_L, u_R-c_R, 0),  \\quad s_R = \\text{max}(u_L+c_L, u_R+c_R, 0).\n",
    "    \\end{equation}\n"
   ]
  },
  {
   "cell_type": "code",
   "execution_count": 104,
   "metadata": {},
   "outputs": [
    {
     "data": {
      "text/plain": [
       "Presolve (generic function with 1 method)"
      ]
     },
     "execution_count": 104,
     "metadata": {},
     "output_type": "execute_result"
    }
   ],
   "source": [
    "function Presolve(varL::Var, varR::Var, conL::Const,conR::Const)\n",
    "        \n",
    "    ρL, uL, pL, sxxL = varL.ρ, varL.u, varL.p, varL.sxx\n",
    "    ρR, uR, pR, sxxR = varR.ρ, varR.u, varR.p, varR.sxx\n",
    "    σL  = -pL+sxxL\n",
    "    \n",
    "    UL = [ρL, uL, pL, sxxL]\n",
    "    UR = [ρR, uR, pR, sxxR]\n",
    "    cL = sound(UL[:],conL)\n",
    "   # eL = PToe(ρL, pL, conL)\n",
    "    \n",
    "    σR  = -pR+sxxR\n",
    "    cR = sound(UR[:],conR)\n",
    "  #  eR = PToe(ρR, pR, conR)\n",
    "    \n",
    "    sL = min(uL-cL, uR-cR)\n",
    "    sR = max(uL+cL, uR+cR)\n",
    "        \n",
    "    s_star = (σL - σR + ρL*uL*(sL-uL) - ρR* uR*(sR-uR))/(ρL*(sL-uL)-ρR*(sR-uR))\n",
    "        \n",
    "    ρLstar = ρL*(uL-sL)/(s_star - sL)\n",
    "    ρRstar = ρR*(uR-sR)/(s_star - sR)\n",
    "        \n",
    "    sxxLstar =  sxxL -4/3*conL.μ *(log(ρLstar) - log(ρL))\n",
    "    sxxRstar =  sxxR -4/3*conR.μ *(log(ρRstar) - log(ρR))\n",
    " #   @show sxxLstar, sxxRstar,ρLstar,ρRstar\n",
    "    caseL = CaseSelect(sxxL,sxxLstar, ρL, ρLstar,conL,1)\n",
    "    caseR = CaseSelect(sxxR,sxxRstar, ρR, ρRstar,conR,2)\n",
    "    σLstar = σL -ρL*(sL-uL)*(s_star-uL)\n",
    "    pLstar =sxxLstar - σLstar\n",
    "  #  @show pLstar,sxxLstar,ρLstar, s_star\n",
    "    \n",
    " #   return caseL, caseR\n",
    "    return ρLstar, ρRstar, caseL,caseR\n",
    "end"
   ]
  },
  {
   "cell_type": "markdown",
   "metadata": {},
   "source": [
    "## 分类\n",
    "Also consider the cases in the left, \n",
    "### Case 1\n",
    "The deviatoric stress satisfies \n",
    "$$| \\hat{s}_{xxL}^* | \\ge  \\frac{2}{3}Y_0   \\quad \\text{and} \\quad | s_{xxL} | \\ge  \\frac{2}{3}Y_0 \\quad  \\\\\\text{or} \\quad | \\hat{s}_{xxL}^* | \\lt  \\frac{2}{3}Y_0   \\quad \\text{and} \\quad | s_{xxL} | \\lt  \\frac{2}{3}Y_0 $$ \n",
    "\n",
    "The density satisfies\n",
    "    $$ \\hat{\\rho}_L^* < \\rho_L$$\n"
   ]
  },
  {
   "cell_type": "markdown",
   "metadata": {},
   "source": [
    "### Case 2\n",
    "The deviatoric stress satisfies \n",
    "$$| \\hat{s}_{xxL}^* | \\ge  \\frac{2}{3}Y_0   \\quad \\text{and} \\quad | s_{xxL} | \\lt  \\frac{2}{3}Y_0  $$ \n",
    "\n",
    "The density satisfies\n",
    "    $$ \\hat{\\rho}_L^* < \\rho_L$$"
   ]
  },
  {
   "cell_type": "markdown",
   "metadata": {},
   "source": [
    "### Case 3\n",
    "The deviatoric stress satisfies \n",
    "$$| \\hat{s}_{xxL}^* | \\ge  \\frac{2}{3}Y_0   \\quad \\text{and} \\quad | s_{xxL} | \\ge  \\frac{2}{3}Y_0 \\quad  \\\\\\text{or} \\quad | \\hat{s}_{xxL}^* | \\lt  \\frac{2}{3}Y_0   \\quad \\text{and} \\quad | s_{xxL} | \\lt  \\frac{2}{3}Y_0 $$ \n",
    "The density satisfies\n",
    "    $$ \\hat{\\rho}_L^* > \\rho_L$$\n"
   ]
  },
  {
   "cell_type": "markdown",
   "metadata": {},
   "source": [
    "### Case 4\n",
    "The deviatoric stress satisfies \n",
    "$$| \\hat{s}_{xxL}^* | \\ge  \\frac{2}{3}Y_0   \\quad \\text{and} \\quad | s_{xxL} | \\lt  \\frac{2}{3}Y_0  $$ \n",
    "\n",
    "The density satisfies\n",
    "    $$ \\hat{\\rho}_L^* > \\rho_L$$"
   ]
  },
  {
   "cell_type": "code",
   "execution_count": 21,
   "metadata": {},
   "outputs": [
    {
     "data": {
      "text/plain": [
       "CaseSelect (generic function with 1 method)"
      ]
     },
     "execution_count": 21,
     "metadata": {},
     "output_type": "execute_result"
    }
   ],
   "source": [
    "function CaseSelect(sxx₀::Float64, sxx₁::Float64,ρ₀::Float64, ρ₁::Float64,con::Const,LoR::Int)\n",
    "    Y0 = con.Y0\n",
    "      if abs(sxx₁) ≥ 2/3*Y0  && abs(sxx₀) < 2/3*Y0   \n",
    "        if ρ₁ > ρ₀\n",
    "            if LoR == 1\n",
    "                case = Shock(2) # 左侧双激波\n",
    "            else\n",
    "                case = Shock(4) # 右侧双激波 \n",
    "            end\n",
    "        else\n",
    "            if LoR == 1\n",
    "                case = Rare(2) # case2 Left\n",
    "            else\n",
    "                case = Rare(4) # case2 Right\n",
    "            end\n",
    "        end\n",
    "    else\n",
    "        if ρ₁ > ρ₀\n",
    "            if LoR == 1\n",
    "                case = Shock(1) # case3\n",
    "                else\n",
    "                case = Shock(3)\n",
    "            end\n",
    "        else\n",
    "            if LoR == 1\n",
    "                case = Rare(1) #case1 Left\n",
    "            else\n",
    "                case = Rare(3)\n",
    "            end\n",
    "        end\n",
    "    end\n",
    "    return case\n",
    "end"
   ]
  },
  {
   "cell_type": "markdown",
   "metadata": {},
   "source": [
    "## 1 左侧膨胀波\n",
    "\n",
    "<img src=\"Case1.png\" width = \"500\" height = \"500\" div align=center />\n",
    "如图，根据膨胀波关系式有\n",
    "\n",
    "\\begin{equation}\n",
    "    du+\\frac{c}{\\rho} d\\rho= 0\\\\\n",
    "    d\\sigma +c^2 d\\rho = 0\n",
    "\\end{equation}\n",
    " where $\\sigma = -p +s_{xx}$, and \n",
    " \\begin{equation}\n",
    "    dp-S^2d\\rho = 0\\\\\n",
    "    ds_{xx}+\\frac{4\\mu}{3\\rho} d\\rho= 0 \n",
    "    \\end{equation}\n",
    "Integration from $Q_L$ to $Q^*_L$\n",
    "\\begin{equation}\n",
    "u_L^* =- \\int_{\\rho_L}^{\\rho^*_L}\\frac{c}{\\rho}d\\rho + u_L\\\\\n",
    "\\sigma_L^* = -\\int_{\\rho_L}^{\\rho^*_L} c^2 d\\rho +\\sigma_L\n",
    "\\end{equation}\n",
    "and \n",
    "\\begin{equation}\n",
    "p_L^* = \\int_{\\rho_L}^{\\rho^*_L}S^2 d\\rho + p_L\\\\\n",
    "s_{xxL}^* = -\\int_{\\rho_L}^{\\rho^*_L} \\frac{4\\mu}{3\\rho} d\\rho +s_{xxL}\n",
    "\\end{equation}\n"
   ]
  },
  {
   "cell_type": "markdown",
   "metadata": {},
   "source": [
    "For right side\n",
    "\\begin{equation}\n",
    "u_R^* = \\int_{\\rho_R}^{\\rho^*_R}\\frac{c}{\\rho}d\\rho + u_R\\\\\n",
    "\\sigma_R^* = -\\int_{\\rho_R}^{\\rho^*_R} c^2 d\\rho +\\sigma_R\n",
    "\\end{equation}\n",
    "and \n",
    "\\begin{equation}\n",
    "p_R^* = \\int_{\\rho_R}^{\\rho^*_R}S^2 d\\rho + p_R\\\\\n",
    "s_{xxR}^* = -\\int_{\\rho_R}^{\\rho^*_R} \\frac{4\\mu}{3\\rho} d\\rho +s_{xxR}\n",
    "\\end{equation}"
   ]
  },
  {
   "cell_type": "code",
   "execution_count": 22,
   "metadata": {},
   "outputs": [],
   "source": [
    "struct Shock\n",
    "    cs::Int\n",
    "end\n",
    "\n",
    "struct Rare\n",
    "    cs::Int\n",
    "    \n",
    "end\n",
    "##case 说明  cs=1 为左单波 cs=2 为左双波\n",
    "##          cs=3 为右单波 cs= 4 为右双波"
   ]
  },
  {
   "cell_type": "markdown",
   "metadata": {},
   "source": [
    "$s_{xxL}^*$ can be given directly as\n",
    "$$s_{xx}(\\rho) = s_{xxL} - \\frac{4}{3}\\mu [\\text{ln}(\\rho) - \\text{ln}(\\rho_L)] $$\n"
   ]
  },
  {
   "cell_type": "code",
   "execution_count": 75,
   "metadata": {},
   "outputs": [
    {
     "data": {
      "text/plain": [
       "Sxx (generic function with 1 method)"
      ]
     },
     "execution_count": 75,
     "metadata": {},
     "output_type": "execute_result"
    }
   ],
   "source": [
    "function Sxx(ρ, var0::Var, con::Const)\n",
    "    sxx0,ρ0 = var0.sxx,var0.ρ\n",
    "    Y0   = con.Y0\n",
    "    \n",
    "    sxx = sxx0 -4/3*con.μ *(log(ρ) - log(ρ0))\n",
    "    if abs(sxx) ≥ 2/3*Y0\n",
    "        sxx = 2/3*Y0*sign(sxx)\n",
    "    end\n",
    "    return sxx\n",
    "end"
   ]
  },
  {
   "cell_type": "markdown",
   "metadata": {},
   "source": [
    "Then we evaluate $p_L^*$, as\n",
    "$$S^2 = a^2 - \\rho_0 \\Gamma_0 \\frac{s_{xx}}{\\rho^2} = a_0^2\\frac{\\partial f}{\\partial \\eta}+\\frac{p}{\\rho^2}\\rho_0\\Gamma_0-\\rho_0 \\Gamma_0\\frac{s_{xx}}{\\rho^2}$$\n"
   ]
  },
  {
   "cell_type": "markdown",
   "metadata": {},
   "source": [
    "So \n",
    "$p(\\rho)$ is in the form of \n",
    "$$ \\tag{2.1} p(\\rho) = \\int_{\\rho_L}^{\\rho} \\lambda_1 \\frac{p}{\\rho^2}+ f_2(\\rho) d\\rho + p_L$$\n",
    "where \n",
    "$$ \\lambda_1 = \\rho_0 \\Gamma_0 \\quad f_2(\\rho) = a_0^2\\frac{\\partial f}{\\partial \\eta}- \\lambda_1\\frac{s_{xx}(\\rho)}{\\rho^2}$$\n",
    "it can be written in the different form as\n"
   ]
  },
  {
   "cell_type": "markdown",
   "metadata": {},
   "source": [
    "$$p'(\\rho) - \\lambda_1 \\frac{p}{\\rho^2} = f_2(\\rho), \\quad p(\\rho_L) = p_L$$ \n",
    "it can be solved out as \n",
    "$$ p(\\rho) = p_Le^{\\frac{\\lambda_1}{\\rho_L}-\\frac{\\lambda_1}{\\rho}} +e^{-\\frac{\\lambda_1}{\\rho}}\\int_{\\rho_L}^\\rho f_2(x) e^{\\frac{\\lambda_1}{x}}dx$$"
   ]
  },
  {
   "cell_type": "code",
   "execution_count": 24,
   "metadata": {},
   "outputs": [
    {
     "data": {
      "text/plain": [
       "fp (generic function with 1 method)"
      ]
     },
     "execution_count": 24,
     "metadata": {},
     "output_type": "execute_result"
    }
   ],
   "source": [
    "function fp(ρ::Float64, var0::Var, con::Const, case::Rare)\n",
    "    ρ₀,p₀ = var0.ρ,var0.p\n",
    "    ρ0,Γ0,a0= con.ρ0,con.Γ0,con.a0   \n",
    "    λ₁ = ρ0*Γ0\n",
    "    f2(ρ) =a0^2*fηη(ρ, con) -λ₁*Sxx(ρ, var0,con)/ρ^2\n",
    "\n",
    "    p = p₀*exp(λ₁/ρ₀ - λ₁/ρ) + exp(-λ₁/ρ)*GaussIntegral(ρ->\n",
    "       f2(ρ)*exp(λ₁/ρ), ρ₀, ρ,5)\n",
    "    return p\n",
    "end\n",
    "#pLStar = fp(ρLStar,varL,con)"
   ]
  },
  {
   "cell_type": "markdown",
   "metadata": {},
   "source": [
    "According to $\\sigma = -p +s_{xx}$ we can get $\\sigma(\\rho)$.\n",
    "$$ g_L(\\rho^*_L) =\\sigma_L^*= -p(\\rho_L^*)+s_{xx}(\\rho_L^*)$$\n",
    "As $c^2 = S^2 +\\frac{4\\mu}{3\\rho}$, \n",
    "$$ u_L^* = u_L - \\int_{\\rho_L}^{\\rho^*_L} \n",
    "\\frac{c}{\\rho}d\\rho$$\n",
    "can be solve by the numerical integral, and \n",
    "$$ f_L(\\rho^*_L) = u_L^*$$"
   ]
  },
  {
   "cell_type": "code",
   "execution_count": 25,
   "metadata": {},
   "outputs": [
    {
     "data": {
      "text/plain": [
       "fu (generic function with 1 method)"
      ]
     },
     "execution_count": 25,
     "metadata": {},
     "output_type": "execute_result"
    }
   ],
   "source": [
    "function fu(ρ::Float64, var0::Var, con::Const,case::Rare)\n",
    "    ρ₀,u₀ = var0.ρ, var0.u\n",
    "    a0,ρ0,Γ0,μ= con.a0, con.ρ0, con.Γ0, con.μ\n",
    "    λ₁ = ρ0*Γ0\n",
    "    S2(ρ) = a0^2*fηη(ρ,con)+λ₁*(fp(ρ,var0,con,case)-Sxx(ρ,var0,con))/ρ^2\n",
    "    function f2(ρ)\n",
    "        if case.cs == 1 &&  case.cs ==2\n",
    "            return -√(S2(ρ)+4μ/(3ρ)) /ρ\n",
    "        else\n",
    "            return √(S2(ρ)+4μ/(3ρ)) /ρ\n",
    "        end\n",
    "    end\n",
    "    \n",
    "    u = u₀ + GaussIntegral(ρ->f2(ρ), ρ₀, ρ, 5)\n",
    "    return u\n",
    "end"
   ]
  },
  {
   "cell_type": "markdown",
   "metadata": {},
   "source": [
    "### 数值积分\n",
    "We use the Gaussian quadradure to intergrate the integrations above.\n",
    "\n",
    "For a function $f(x)$,  the intergration from $-1$ to $1$ is given as\n",
    "$$ \n",
    "  \\int_{-1}^1 f(x)dx \\approx \\sum_{i=0}^n \\omega_i f(p_i)\n",
    "$$\n",
    "$\\omega_i$ is the weight, and $p_i$ is the integrating point.\n",
    "For different orders they are listed as\n",
    "\n",
    "|number of points,$n$| Points, $p_i$| Weights, $\\omega_i$|\n",
    "|:-----|-----:|:-----:|\n",
    "|1     |0     |2      |\n",
    "|2     |$\\pm \\frac{1}{\\sqrt{3}}$| 1|\n",
    "|3     |0, $\\pm \\sqrt{\\frac{3}{5}}$| $\\frac{8}{9}$,$\\frac{5}{9}$, $\\frac{5}{9}$|\n",
    "\n",
    "For a integral over $[x_0,x_1]$, this change of interval can be done as \n",
    " $$ \\int_{x_0}^{x_1}f(x) dx= \\frac{x_1-x_0}{2}\\int_{-1}^{1} f(\\frac{x_1-x_0}{2}x+\\frac{x_0+x_1}{2})dx\n",
    " $$"
   ]
  },
  {
   "cell_type": "code",
   "execution_count": 26,
   "metadata": {},
   "outputs": [
    {
     "data": {
      "text/plain": [
       "GaussIntegral (generic function with 1 method)"
      ]
     },
     "execution_count": 26,
     "metadata": {},
     "output_type": "execute_result"
    }
   ],
   "source": [
    "function GaussIntegral(f::Function,x₀::Float64,x₁::Float64,order::Int)\n",
    "    t₁= (x₁-x₀)/2\n",
    "    t₂= (x₁+x₀)/2\n",
    "    ω = zeros(Float64, 5)\n",
    "    p = zeros(Float64, 5)\n",
    "    \n",
    "    if order == 1\n",
    "        ω[1] = 2.0\n",
    "        p[1] = 0.0\n",
    "    elseif order == 3\n",
    "        ω[1] = 1.0; ω[2] = 1.0\n",
    "        p[1] = 1/√3.0; p[2] = -1/√3.0\n",
    "    elseif order == 5\n",
    "        ω[1] = 8.0/9; ω[2] = 5.0/9; ω[3] = 5.0/9\n",
    "        p[1] = 0.0; p[2] = -√(3.0/5); p[3] = √(3.0/5)\n",
    "    elseif order == 7\n",
    "        ω[1] = (18+√30)/36; ω[2] = (18+√30)/36\n",
    "        ω[3] = (18-√30)/36; ω[4] = (18-√30)/36\n",
    "        p[1] = √(3/7-2/7*√(6/5)); p[1] = -√(3/7-2/7*√(6/5))\n",
    "        p[3] = √(3/7+2/7*√(6/5)); p[4] = -√(3/7+2/7*√(6/5))\n",
    "    end\n",
    "    ∑ =sum( t₁*ω[i]*f(t₁*p[i]+t₂) for i in 1:floor(Int,order/2)+1)\n",
    "\n",
    "    return ∑\n",
    "end"
   ]
  },
  {
   "cell_type": "markdown",
   "metadata": {},
   "source": [
    "## 2 左侧双膨胀波\n",
    "<img src=\"Case2.png\" width = \"500\" height = \"500\" div align=center />"
   ]
  },
  {
   "cell_type": "markdown",
   "metadata": {},
   "source": [
    "### 弹性稀疏波后状态\n",
    " In the region $\\widetilde{Q}_L$\n",
    "$$\n",
    "  \\widetilde{s}_{xxL} =\\frac{2}{3}Y_0\n",
    "$$\n",
    "and the density is\n",
    "$$ \\widetilde{\\rho}_L = \\rho_L \\text{exp}\\left(-\\frac{Y_0}{2\\mu}+\\frac{3 s_{xxL}}{4\\mu}\\right)$$\n"
   ]
  },
  {
   "cell_type": "markdown",
   "metadata": {},
   "source": [
    "According to ($2.1$) we can solve the pressure $\\widetilde{p}_L$ ,then the velocity $\\widetilde{u}_L$  is solved out."
   ]
  },
  {
   "cell_type": "code",
   "execution_count": 27,
   "metadata": {},
   "outputs": [
    {
     "data": {
      "text/plain": [
       "Ṽar (generic function with 1 method)"
      ]
     },
     "execution_count": 27,
     "metadata": {},
     "output_type": "execute_result"
    }
   ],
   "source": [
    "function Ṽar(var0::Var, case, con::Const)\n",
    "\n",
    "    Y0, μ= con.Y0, con.μ\n",
    "    sxx,ρ = var0.sxx,var0.ρ\n",
    "\n",
    "    cs = case.cs\n",
    "    if cs == 1 || cs == 3\n",
    "        var1 = var0\n",
    "    elseif cs == 2 || cs == 4\n",
    "        \n",
    "        if typeof(case) == Rare \n",
    "            sxx1 = 2/3*Y0\n",
    "            ρ1 = ρ*exp(-Y0/(2μ)+(3sxx)/(4μ))\n",
    "        elseif typeof(case) == Shock\n",
    "            sxx1 = -2/3*Y0\n",
    "            ρ1 = ρ*exp(Y0/(2μ)+(3sxx)/(4μ))\n",
    "        end\n",
    "        p1 = fp(ρ, var0, con, case)\n",
    "        u1 = fu(ρ, var0, con, case)\n",
    "    \n",
    "        var1= Var(ρ1, u1, p1, sxx1)\n",
    "    end\n",
    "    return var1\n",
    "end\n"
   ]
  },
  {
   "cell_type": "markdown",
   "metadata": {},
   "source": [
    "### From state $\\widetilde{Q}_L$  to state $Q_L^*$ \n",
    "\n",
    "The process is same to Case 1. "
   ]
  },
  {
   "cell_type": "markdown",
   "metadata": {},
   "source": [
    "## 3 左侧激波\n",
    "\n",
    "<img src=\"Case3.png\" width = \"500\" height = \"500\" div align=center />\n",
    "According to the ralation of Runkine-Hugoniot,\n",
    "\n",
    "\\begin{equation} \\tag{1.2}\n",
    "F_L^*=F_L+s_L(U_L^*-U_L)\n",
    "  \\end{equation}\n"
   ]
  },
  {
   "cell_type": "markdown",
   "metadata": {},
   "source": [
    "As is\n",
    "\\begin{align}\n",
    "    &\\rho^*_L(u^*_L-s_L) = \\rho_L(u_L-s_L), \\tag{1.3}\\\\\n",
    "    &\\rho^*_Lu^*_L(u^*_L-s_L) = \\rho_Lu_L(u_L-s_L)+\\sigma^*_L-\\sigma_L,  \\tag{1.4}\\\\\n",
    "    &\\rho^*_LE^*_L(u^*_L-s_L) = \\rho_LE_L(u_L-s_L)+\\sigma^*_L u^*_L-\\sigma_Lu_L, \\tag{1.5}\\\\\n",
    "\\end{align}\n"
   ]
  },
  {
   "cell_type": "markdown",
   "metadata": {},
   "source": [
    "According to ($1.3$) we have \n",
    "\\begin{equation}\\tag{1.6}\n",
    "s_L = \\frac{\\rho_L^* u_L^* - \\rho_L u_L}{\\rho_L^*-\\rho_L}\n",
    "\\end{equation}"
   ]
  },
  {
   "cell_type": "markdown",
   "metadata": {},
   "source": [
    "Subtituting ($1.3$) into ($1.4$) yields\n",
    "\\begin{equation}\\tag{1.7}\n",
    "\\rho_L(u^*_L-u_L)(u_L-s_L) = \\sigma_L^*-\\sigma_L\n",
    "\\end{equation}"
   ]
  },
  {
   "cell_type": "markdown",
   "metadata": {},
   "source": [
    "Also according to ($1.3$), we have \n",
    "\\begin{equation}\n",
    "u_L-s_L = \\frac{(u_L - u_L^*)\\rho_L^*}{\\rho_L^* -\\rho_L}\n",
    "\\end{equation}\n",
    "Then subtituting it into ($1.7$)\n",
    "\\begin{equation}\\tag{1.8}\n",
    "  -t(u^*_L-u_L)^2 = \\sigma^*_L-\\sigma_L,\n",
    "\\end{equation}\n",
    "where $ t=\\frac{\\rho_L \\rho^*_L}{\\rho^*_L-\\rho_L}$.\n",
    "\n",
    "Similar to (1.7), (1.5) can be changed into\n",
    "$$ \\tag{1.9} t(u_L-u^*_L)(E^*_L-E_L) =\\sigma^*_L u^*_L-\\sigma_Lu_L\n",
    "$$\n"
   ]
  },
  {
   "cell_type": "markdown",
   "metadata": {},
   "source": [
    "Because $E = e+\\frac{1}{2}u^2$, we can get \n",
    "$$ \\tag{1.10}\n",
    "e_L^* - e_L = - \\frac{\\sigma_L +\\sigma_L^*}{2t}\n",
    "$$\n",
    "Also we use the EOS of Mie-Gr\\\"uniesen  \n",
    "$$\\tag{1.11}\n",
    "  p(\\rho,e) = \\rho_0 a_0^2f(\\eta)+ \\rho_0 \\Gamma_0 e,\n",
    "$$\n",
    "can get\n",
    "$$ \\tag{1.12}\n",
    "  e=c_0 p-c_1f(\\rho/\\rho_0),\n",
    "$$\n",
    "where $c_0=\\frac{1}{\\rho_0\\Gamma_0}$ and $c_1=\\frac{a_0^2}{\\Gamma_0}$.\n",
    "\n",
    "Using (1.12), from (1.10) we can get \n",
    " $$ \\tag{1.13}\n",
    " p^*_L= \\frac{2t(c_1f(\\rho^*_L)+e_L)-(\\sigma_L+s^*_{xxL})}{2tc_0-1},\n",
    "$$"
   ]
  },
  {
   "cell_type": "markdown",
   "metadata": {},
   "source": [
    "And we use the relation of $s_{xxL}$ and $\\rho$\n",
    "$$  s_{xxL}^*=s_{xxL}^*(\\rho_L^*)=-\\frac{4}{3}\\mu\\text{ln}(\\frac{\\rho^*_{L}}{\\rho_{L}})+s_{xxL}\n",
    "$$\n",
    "we can get\n",
    "$$ \\tag{1.14} \\sigma_L^*  = \\frac{2t[c_1f(\\rho^*_L)-c_0 s_{xxL}^*(\\rho^*_L)+e_L] -\\sigma_L}{1-2tc_0}$$"
   ]
  },
  {
   "cell_type": "code",
   "execution_count": 77,
   "metadata": {},
   "outputs": [
    {
     "data": {
      "text/plain": [
       "fp (generic function with 2 methods)"
      ]
     },
     "execution_count": 77,
     "metadata": {},
     "output_type": "execute_result"
    }
   ],
   "source": [
    "function fp(ρ::Float64, var0::Var, con::Const,case::Shock)\n",
    "   \n",
    "    ρ₀,p₀,sxx₀ = var0.ρ,var0.p,var0.sxx\n",
    "    ρ0,Γ0,a0 = con.ρ0,con.Γ0,con.a0\n",
    "    \n",
    "    σ₀ = -p₀+sxx₀\n",
    "    e₀ =  PToe(ρ₀, p₀, con)\n",
    "   # @show e₀\n",
    "    t =  (ρ-ρ₀)/(ρ₀*ρ) ; c₀ = 1/(Γ0*ρ0); c₁= a0^2/Γ0\n",
    "  \n",
    "    p = (2(c₁*fη(ρ,con) + e₀) -t*(σ₀+Sxx(ρ,var0,con)))/(-t+2c₀)\n",
    " \n",
    "    \n",
    " #   @show t, (2c₀-t),c₀\n",
    "    return p\n",
    "end"
   ]
  },
  {
   "cell_type": "markdown",
   "metadata": {},
   "source": [
    "Using ($1.8$) we have \n",
    "$$ \\tag{1.15} \n",
    "u_L^* = u_L - \\sqrt{\\frac{\\sigma_L-\\sigma_L^*}{t}} $$\n"
   ]
  },
  {
   "cell_type": "code",
   "execution_count": 29,
   "metadata": {},
   "outputs": [
    {
     "data": {
      "text/plain": [
       "fu (generic function with 2 methods)"
      ]
     },
     "execution_count": 29,
     "metadata": {},
     "output_type": "execute_result"
    }
   ],
   "source": [
    "function fu(ρ::Float64, var0::Var, con::Const,case::Shock)\n",
    "   \n",
    "    ρ₀,u₀,p₀,sxx₀ = var0.ρ,var0.u,var0.p,var0.sxx\n",
    "    σ₀ = -p₀+sxx₀\n",
    "    \n",
    "    sxx=Sxx(ρ,var0,con)\n",
    "    p  = fp(ρ, var0, con, case)\n",
    "    σ = -p+sxx\n",
    "    \n",
    "    t =  (ρ-ρ₀)/ρ₀*ρ\n",
    "    if case.cs == 1 || case.cs == 2\n",
    "        u = u₀ - √(t*(σ₀ - σ))\n",
    "    \n",
    "    else\n",
    "        u = u₀ + √(t*(σ₀ - σ))\n",
    "    end\n",
    "#    @show t, σ₀ - σ\n",
    "    return u\n",
    "end"
   ]
  },
  {
   "cell_type": "markdown",
   "metadata": {},
   "source": [
    "## 4 左侧双激波\n",
    "<img src=\"Case4.png\" width = \"500\" height = \"500\" div align=center />"
   ]
  },
  {
   "cell_type": "markdown",
   "metadata": {},
   "source": [
    "### 弹性激波后状态\n",
    " In the region $\\widetilde{Q}_L$\n",
    "$$\n",
    "  \\widetilde{s}_{xxL} =\\frac{2}{3}Y_0\n",
    "$$\n",
    "and the density is\n",
    "$$ \\widetilde{\\rho}_L = \\rho_L \\text{exp}\\left(\\frac{Y_0}{2\\mu}+\\frac{3 s_{xxL}}{4\\mu}\\right)$$\n",
    "From ($1.14$) and ($1.15$)  other viriables can be get.\n",
    "Then use the same process from $\\widetilde{Q}_L$ to $Q_L^*$ as Case 3. "
   ]
  },
  {
   "cell_type": "markdown",
   "metadata": {},
   "source": [
    "## 求解$\\sigma_L^*$ 和$ u_L^*$\n",
    "Let $f_{L}(\\rho^*_L) = u_L^* $ and $g_{L}(\\rho^*_L) = \\sigma_L^*$, samilarly, we let\n",
    "$f_{R}(\\rho^*_R) = u_R^*$ and $g_{R}(\\rho^*_R) = \\sigma_R^*$, we have the relation\n",
    "\\begin{equation}\\tag{1.1}\n",
    "F(\\rho^*_L,\\rho^*_R) = f_L(\\rho^*_L) - f_R(\\rho^*_R) = 0\\\\\n",
    "G(\\rho^*_L,\\rho^*_R) = g_L(\\rho^*_L) - g_R(\\rho^*_R) = 0\n",
    "\\end{equation}"
   ]
  },
  {
   "cell_type": "code",
   "execution_count": 30,
   "metadata": {},
   "outputs": [
    {
     "data": {
      "text/plain": [
       "gR¹ (generic function with 2 methods)"
      ]
     },
     "execution_count": 30,
     "metadata": {},
     "output_type": "execute_result"
    }
   ],
   "source": [
    "    fL(ρ) = fu(ρ, var0L, conL, caseL)\n",
    "    fR(ρ) = fu(ρ, var0R, conR, caseR)\n",
    "    gL(ρ) = -fp(ρ,var0L,conL,caseL)+Sxx( ρ, var0L, conL)\n",
    "    gR(ρ) = -fp(ρ,var0R,conR,caseR)+Sxx( ρ, var0R, conR)\n",
    "\n",
    "    fL¹(ρ) = Derivative(fL,ρ)\n",
    "    fR¹(ρ) = Derivative(fR,ρ)\n",
    "    gL¹(ρ) = Derivative(gL,ρ)\n",
    "    gR¹(ρ) = Derivative(gR,ρ)"
   ]
  },
  {
   "cell_type": "markdown",
   "metadata": {},
   "source": [
    "\n",
    "###  牛顿迭代\n",
    "We use the newton iteration method to evaluate $\\rho^*_L$ and $\\rho^*_R$.\n",
    "\\begin{equation}\n",
    "\\left[ \\begin{array}{l}\n",
    " \\rho _{R,(k+1)}^*\\\\\n",
    "\\rho_{L,(k+1)}^*\\\\\n",
    "\\end{array}\n",
    "\\right] = \n",
    "\\left[ \\begin{array}{l}\n",
    " \\rho _{R,(k)}^*\\\\\n",
    "\\rho_{L,(k)}^*\\\\\n",
    "\\end{array}\n",
    "\\right]-\n",
    "\\left[ \\begin{array}{ll}\n",
    "\\frac{\\partial F_{(k)}}{\\partial \\rho_R^*} & \\frac{\\partial F_{(k)}}{\\partial \\rho_L^*}\\\\\n",
    "\\frac{\\partial G_{(k)}}{\\partial \\rho_R^*} & \\frac{\\partial G_{(k)}}{\\partial \\rho_L^*}\\\\\n",
    "\\end{array}\n",
    "\\right]^{-1}\n",
    "\\left[ \\begin{array}{l}\n",
    "F_{(k)}\\\\\n",
    "G_{(k)}\\\\\n",
    "\\end{array}\n",
    "\\right]\n",
    "\\end{equation}\n"
   ]
  },
  {
   "cell_type": "markdown",
   "metadata": {},
   "source": [
    "from Eq.($1.1$) we can get\n",
    "\\begin{equation}\n",
    "\\left[ \\begin{array}{l}\n",
    " \\rho _{R,(k+1)}^*\\\\\n",
    "\\rho_{L,(k+1)}^*\\\\\n",
    "\\end{array}\n",
    "\\right] = \n",
    "\\left[ \\begin{array}{l}\n",
    " \\rho _{R,(k)}^*\\\\\n",
    "\\rho_{L,(k)}^*\\\\\n",
    "\\end{array}\n",
    "\\right]-\n",
    "\\left[ \\begin{array}{ll}\n",
    "-\\frac{\\partial f_{R,(k)}}{\\partial \\rho_R^*} & \\frac{\\partial f_{L,(k)}}{\\partial \\rho_L^*}\\\\\n",
    "-\\frac{\\partial g_{R,(k)}}{\\partial \\rho_R^*} & \\frac{\\partial g_{,L(k)}}{\\partial \\rho_L^*}\\\\\n",
    "\\end{array}\n",
    "\\right]^{-1}\n",
    "\\left[ \\begin{array}{l}\n",
    "F_{(k)}\\\\\n",
    "G_{(k)}\\\\\n",
    "\\end{array}\n",
    "\\right]\n",
    "\\end{equation}\n",
    "where $\\rho_{L,(k)}^*$ and $\\rho_{R,(k)}^*$ are the k-th iteration values, $F(k) = F(\\rho^*_{L,(k)},\\rho^*_{R,(k)})$,$G(k) = G(\\rho^*_{L,(k)},\\rho^*_{R,(k)})$.\n"
   ]
  },
  {
   "cell_type": "markdown",
   "metadata": {},
   "source": [
    "$$u = u - J^{-1}F$$"
   ]
  },
  {
   "cell_type": "markdown",
   "metadata": {},
   "source": [
    "\n",
    "For a rarefaction wave in the left, the derivatives are solved by\n",
    "\\begin{equation}\n",
    "\\frac{\\partial f_{L,(k)}}{\\partial \\rho^*_{L,(k)}} = \\frac{c(\\rho^*_{L,(k)})}{\\rho^*_{L,(k)}}\\\\\n",
    "\\frac{\\partial g_{L,(k)}}{\\partial \\rho^*_{L,(k)}} = c(\\rho^*_{L,(k)})^2\n",
    "\\end{equation}"
   ]
  },
  {
   "cell_type": "markdown",
   "metadata": {},
   "source": [
    "#### 初始条件\n",
    "\n",
    "We take an intial iteration value as \n",
    "\\begin{equation}\n",
    "\\rho_{L,(0)}^* = \\rho_{R,(0)}^* = \\frac{\\rho_L +\\rho_R}{2}\n",
    "\\end{equation}"
   ]
  },
  {
   "cell_type": "code",
   "execution_count": 31,
   "metadata": {},
   "outputs": [
    {
     "data": {
      "text/plain": [
       "Derivative (generic function with 1 method)"
      ]
     },
     "execution_count": 31,
     "metadata": {},
     "output_type": "execute_result"
    }
   ],
   "source": [
    "function Derivative(f::Function,x::Float64)\n",
    "    ϵ₀ = 1e-8\n",
    "    if abs(x) >= ϵ₀\n",
    "        ϵ= ϵ₀*x\n",
    "    else\n",
    "        ϵ =ϵ₀\n",
    "    end\n",
    "    f¹(x) = (f(x+ϵ)-f(x))/ϵ\n",
    "    return f¹(x)\n",
    "end"
   ]
  },
  {
   "cell_type": "code",
   "execution_count": 32,
   "metadata": {},
   "outputs": [
    {
     "data": {
      "text/plain": [
       "NewtonIter! (generic function with 2 methods)"
      ]
     },
     "execution_count": 32,
     "metadata": {},
     "output_type": "execute_result"
    }
   ],
   "source": [
    "function NewtonIter!(U::Array{Float64,1},J::Array{Float64,2},F::Array{Float64,1}, TOL::Float64 = 1.e-6) \n",
    "    I, = size(U)\n",
    "    U_new = zeros(Float64, I)\n",
    "    while true  \n",
    "        c = max(abs(F[1]),abs(F[2]))\n",
    "        if c <= TOL\n",
    "            break\n",
    "        end\n",
    "        U_new = U - inv(J)*F # same to inv(J)×F\n",
    "   #     c= CHA(U,U_new,F)\n",
    "     #   if c <= TOL\n",
    "      #      break\n",
    "      #  end\n",
    "    end\n",
    "    return U\n",
    "    \n",
    "end   "
   ]
  },
  {
   "cell_type": "markdown",
   "metadata": {},
   "source": [
    "#### 收敛准则\n",
    "\n",
    "The iteration procedure stops with the criterion of\n",
    "$\\text{CHA}\\le \\text{TOL}$, where \n",
    "\\begin{equation}\n",
    "\\text{CHA} = \\text{max} \\left[ \n",
    "\\frac{2|(\\rho_L^*)_{(k+1)}-(\\rho_L^*)_{(k)}|}{|(\\rho_L^*)_{(k+1)}+(\\rho_L^*)_{(k)}|}, \\frac{2|(\\rho_R^*)_{(k+1)}-(\\rho_R^*)_{(k)}|}{|(\\rho_R^*)_{(k+1)}+(\\rho_R^*)_{(k)}|}, |F_{(k)}|, |G_{(k)}| \\right]\n",
    "\\end{equation}\n",
    "and TOL is a small tolerance by numerical experiments, we take as $\\text{TOL} = 10^{-6}$."
   ]
  },
  {
   "cell_type": "code",
   "execution_count": 33,
   "metadata": {},
   "outputs": [
    {
     "data": {
      "text/plain": [
       "CHA (generic function with 1 method)"
      ]
     },
     "execution_count": 33,
     "metadata": {},
     "output_type": "execute_result"
    }
   ],
   "source": [
    "function CHA(R0::Array{Float64,1}, R1::Array{Float64,1}, F::Array{Float64,1})\n",
    "    \n",
    "    ρₗ₀ = R0[1]; ρᵣ₀ = R0[2]\n",
    "    ρₗ₁ = R1[1]; ρᵣ₁ = R1[2]\n",
    "    \n",
    "    CHA = max(abs(2(ρₗ₁-ρₗ₀)/(ρₗ₁+ρₗ₀)),\n",
    "              abs(2(ρᵣ₁-ρᵣ₀)/(ρᵣ₁+ρᵣ₀)), F[1], F[2])\n",
    "    return CHA\n",
    "end   "
   ]
  },
  {
   "cell_type": "code",
   "execution_count": 34,
   "metadata": {},
   "outputs": [
    {
     "data": {
      "text/plain": [
       "Plastic (generic function with 1 method)"
      ]
     },
     "execution_count": 34,
     "metadata": {},
     "output_type": "execute_result"
    }
   ],
   "source": [
    "#include(\"/home/bfly/workspace/Juliastudy/Lagrangian_1d-2materials.jl\")"
   ]
  },
  {
   "cell_type": "code",
   "execution_count": 35,
   "metadata": {},
   "outputs": [
    {
     "data": {
      "text/plain": [
       "gR¹ (generic function with 2 methods)"
      ]
     },
     "execution_count": 35,
     "metadata": {},
     "output_type": "execute_result"
    }
   ],
   "source": [
    "    fL(ρ, varL, conL, caseL) = fu(ρ, varL, conL, caseL)\n",
    "    fR(ρ, varR, conR, caseR) = fu(ρ, varR, conR, caseR)\n",
    "    gL(ρ, varL, conL, caseL) = -fp(ρ,varL,conL,caseL)+Sxx( ρ, varL, conL)\n",
    "    gR(ρ, varR, conR, caseR) = -fp(ρ,varR,conR,caseR)+Sxx( ρ, varR, conR)\n",
    "\n",
    "    fL¹(ρ, varL, conL, caseL) = Derivative(ρ->fL(ρ, varL, conL, caseL),ρ)\n",
    "    fR¹(ρ, varR, conR, caseR) = Derivative(ρ->fR(ρ, varR, conR, caseR),ρ)\n",
    "    gL¹(ρ, varL, conL, caseL) = Derivative(ρ->gL(ρ, varL, conL, caseL),ρ)\n",
    "    gR¹(ρ, varR, conR, caseR) = Derivative(ρ->gR(ρ, varR, conR, caseR),ρ)\n",
    " "
   ]
  },
  {
   "cell_type": "markdown",
   "metadata": {},
   "source": [
    "# 根据迭代结果重新求解左右状态\n"
   ]
  },
  {
   "cell_type": "code",
   "execution_count": 105,
   "metadata": {},
   "outputs": [
    {
     "data": {
      "text/plain": [
       "Exact_Riemann (generic function with 1 method)"
      ]
     },
     "execution_count": 105,
     "metadata": {},
     "output_type": "execute_result"
    }
   ],
   "source": [
    "function Exact_Riemann(uL::Array{Float64,1}, uR::Array{Float64,1}, conL::Const, conR::Const )\n",
    "        \n",
    "    \n",
    "    var0L = Var(uL[1],uL[2],uL[3],uL[4])\n",
    "    var0R = Var(uR[1],uR[2],uR[3],uR[4])\n",
    " #  @show var0L\n",
    "    \n",
    "###预求解和分类    \n",
    "    ρLInit, ρRInit,caseL,caseR = Presolve(var0L, var0R, conL, conR)\n",
    "  # println(ρLInit,ρRInit)\n",
    "###求解  Q̂ \n",
    "    @show caseL,caseR\n",
    "    varL = Ṽar(var0L, caseL,conL)\n",
    "    varR = Ṽar(var0R, caseR,conR)\n",
    "    ρL, uL, pL, sxxL = varL.ρ, varL.u, varL.p, varL.sxx\n",
    "    ρR, uR, pR, sxxR = varR.ρ, varR.u, varR.p, varR.sxx\n",
    "\n",
    "   # @show varL, varR\n",
    "    ###迭代初始化    \n",
    "    ρLStar = ρLInit\n",
    "    ρRStar = ρRInit\n",
    "   \n",
    "    \n",
    "    TOL = 2.e-5\n",
    "    i = 1\n",
    "    U = zeros(Float64, 2)\n",
    "    \n",
    "    println(ρLStar,\"  \",ρRStar)\n",
    "    while i < 30\n",
    "        i += 1\n",
    "\n",
    "        J = [[-fR¹(ρRStar,varR, conR, caseR) fL¹(ρLStar,varL, conL, caseL)]; \n",
    "             [-gR¹(ρRStar,varR, conR, caseR) gL¹(ρLStar,varL, conL, caseL)]]\n",
    "    \n",
    "        U = [ρRStar, ρLStar]\n",
    "    \n",
    "        F = [fL(ρLStar,varL, conL, caseL)- fR(ρRStar,varR, conR, caseR), \n",
    "             gL(ρLStar,varL, conL, caseL)- gR(ρRStar,varR, conR, caseR)]\n",
    "      \n",
    "    \n",
    "      \n",
    "     c = max(abs(F[1]),abs(F[2])) \n",
    "    \n",
    "        @show U, F,J\n",
    "    \n",
    "      if c <= TOL\n",
    "            break\n",
    "        end\n",
    "    #   @show F\n",
    "        U = U - J\\F\n",
    "        ρRStar = U[1]\n",
    "        ρLStar = U[2]\n",
    "   end\n",
    "   \n",
    "    \n",
    "    ### 重新求解\n",
    "    pLStar = fp(ρLStar, varL, conL,caseL)\n",
    "    s_Star = fu(ρLStar, varL, conL,caseL)\n",
    "    sxxLStar = Sxx(ρLStar, varL, conL)\n",
    "\n",
    "    pRStar = fp(ρRStar, varR, conR,caseR)\n",
    "    sxxRStar = Sxx(ρRStar, varR, conR)\n",
    "    FL=zeros(Float64, 4)\n",
    "    FR=zeros(Float64, 4)\n",
    "    FL[1] = 0.0\n",
    "    FL[2] = pLStar-sxxLStar\n",
    "    FL[3] = (pLStar-sxxLStar)*s_Star\n",
    "    FL[4] = -4conL.μ/3*s_Star\n",
    "    uuh = s_Star\n",
    "\n",
    "    FR[1] = 0.0\n",
    "    FR[2] = pRStar-sxxRStar\n",
    "    FR[3] = (pRStar-sxxRStar)*s_Star\n",
    "    FR[4] = -4conR.μ/3*s_Star\n",
    "    uuh = s_Star\n",
    "    \n",
    "    return FL,FR, uuh\n",
    "end"
   ]
  },
  {
   "cell_type": "code",
   "execution_count": 134,
   "metadata": {},
   "outputs": [
    {
     "data": {
      "text/plain": [
       "Const(3.0e8, 2785.0, 2.0, 2.76e10, 5328.0, 1.338)"
      ]
     },
     "execution_count": 134,
     "metadata": {},
     "output_type": "execute_result"
    }
   ],
   "source": [
    "uL = [2800, 300.0, 1.e6,0.0]\n",
    "uR = [2600, 0.0, 1.e2,0.0]\n",
    "\n",
    "conL = Const(3e8,2785,2.0,2.76e10,5328.0,1.338)\n",
    "conR = Const(3e8,2785,2.0,2.76e10,5328.0,1.338)\n"
   ]
  },
  {
   "cell_type": "code",
   "execution_count": 135,
   "metadata": {},
   "outputs": [
    {
     "name": "stdout",
     "output_type": "stream",
     "text": [
      "(caseL, caseR) = (Shock(2), Shock(4))\n",
      "2862.9391102942  2660.6726029215815\n",
      "(U, F, J) = ([2660.67, 2862.94], [-5.06291e5, -1.6047e8], [-5375.63 -5625.47; 2.79036e7 -3.06082e7])\n",
      "(U, F, J) = ([2615.28, 2816.32], [-11092.3, -2.34192e6], [-5134.43 -5385.84; 2.634e7 -2.89855e7])\n",
      "(U, F, J) = ([2614.22, 2815.27], [-5.76377, 373.247], [-5128.83 -5380.51; 2.63039e7 -2.89497e7])\n",
      "(U, F, J) = ([2614.22, 2815.27], [-1.65635e-6, 0.00102934], [-5128.83 -5380.5; 2.63039e7 -2.89496e7])\n",
      "(U, F, J) = ([2614.22, 2815.27], [4.83709e-10, -2.18749e-5], [-5128.83 -5380.5; 2.63039e7 -2.89496e7])\n",
      "(U, F, J) = ([2614.22, 2815.27], [5.52291e-10, 1.29342e-5], [-5128.83 -5380.5; 2.63039e7 -2.89496e7])\n"
     ]
    },
    {
     "data": {
      "text/plain": [
       "([0.0, 2.01276e8, 5.00656e10, -9.15368e12], [0.0, 2.01276e8, 5.00656e10, -9.15368e12], 248.74121296705704)"
      ]
     },
     "execution_count": 135,
     "metadata": {},
     "output_type": "execute_result"
    }
   ],
   "source": [
    "Exact_Riemann(uL,uR,conL,conR)"
   ]
  },
  {
   "cell_type": "code",
   "execution_count": null,
   "metadata": {},
   "outputs": [],
   "source": []
  }
 ],
 "metadata": {
  "kernelspec": {
   "display_name": "Julia 1.1.0",
   "language": "julia",
   "name": "julia-1.1"
  },
  "language_info": {
   "file_extension": ".jl",
   "mimetype": "application/julia",
   "name": "julia",
   "version": "1.1.0"
  }
 },
 "nbformat": 4,
 "nbformat_minor": 2
}
