{
 "cells": [
  {
   "cell_type": "markdown",
   "metadata": {},
   "source": [
    "# Exact Riemann Solver\n",
    "\n",
    "\n",
    "## 通过HLLCE进行预算\n",
    "\n",
    "### 考虑双弹性波情况\n",
    "<img src=\"Case5.png\" width = \"500\" height = \"500\" div align=center />\n",
    " <center>   With only plastic or plastic shock wave"
   ]
  },
  {
   "cell_type": "markdown",
   "metadata": {},
   "source": [
    "By using the relation of $u_L^* =u_R^* = s^*$, the speed of contact wave can be evaluated as\n",
    "\\begin{equation}\n",
    " \\hat{s}^* = \\frac{\\sigma_L-\\sigma_R+\\rho_L u_L(s_L-u_L)-\\rho_R u_R(s_R-u_R)}{\\rho_L(s_L-u_L)-\\rho_R(s_R-u_R)},\n",
    "\\end{equation}\n",
    "the density is solved as\n",
    "\\begin{equation}\\label{eq:rhoLs}\n",
    "  \\hat{\\rho}_L^* = \\frac{\\rho_L(u_L-s_L)}{\\hat{s}^*-s_L}.\n",
    "\\end{equation}\n",
    "Similarly, the density behind the right going wave can be given as\n",
    "\\begin{equation}\n",
    "  \\hat{\\rho}_R^* = \\frac{\\rho_R(u_R-s_R)}{\\hat{s}^*-s_R}.\n",
    "\\end{equation}\n"
   ]
  },
  {
   "cell_type": "markdown",
   "metadata": {},
   "source": [
    "The deviatoric stress is evaluated as\n",
    "\\begin{equation}  \\label{sxx1}\n",
    "  \\hat{s}_{xxL}^*=-\\frac{4}{3}\\mu\\text{ln}(\\frac{\\hat{\\rho}_L^*}{\\rho_L})+s_{xxL}, \\quad   \\hat{s}_{xxR}^*=-\\frac{4}{3}\\mu\\text{ln}(\\frac{\\hat{\\rho}_R^*}{\\rho_R})+s_{xxR}.\n",
    "\\end{equation}\n",
    "\n",
    "If the speeds of left and right going waves are given, we can evaluate all states in the star regions on the two sides of  the contact wave. Here we define the speeds of left and right going waves as\n",
    "    \\begin{equation}\n",
    "      s_L = \\text{min} (u_L-c_L, u_R-c_R, 0),  \\quad s_R = \\text{max}(u_L+c_L, u_R+c_R, 0).\n",
    "    \\end{equation}"
   ]
  },
  {
   "cell_type": "markdown",
   "metadata": {},
   "source": [
    "# Left side"
   ]
  },
  {
   "cell_type": "markdown",
   "metadata": {},
   "source": [
    "\n",
    "### Case 1\n",
    "The deviatoric stress satisfies \n",
    "$$| \\hat{s}_{xxL}^* | \\ge  \\frac{2}{3}Y_0   \\quad \\text{and} \\quad | s_{xxL} | \\ge  \\frac{2}{3}Y_0 \\quad  \\\\\\text{or} \\quad | \\hat{s}_{xxL}^* | \\lt  \\frac{2}{3}Y_0   \\quad \\text{and} \\quad | s_{xxL} | \\lt  \\frac{2}{3}Y_0 $$ \n",
    "\n",
    "The density satisfies\n",
    "    $$ \\hat{\\rho}_L^* < \\rho_L$$\n"
   ]
  },
  {
   "cell_type": "markdown",
   "metadata": {},
   "source": [
    "<img src=\"Case1.png\" width = \"500\" height = \"500\" div align=center />\n",
    "\n",
    "\\begin{equation}\n",
    "p_L^* = \\int_{\\rho_L}^{\\rho^*_L}S^2 d\\rho + p_L\\\\\n",
    "\\end{equation}\n",
    "$s_{xxL}^*$ can be given directly as\n",
    "$$s_{xx}(\\rho) = s_{xxL} - \\frac{4}{3}\\mu [\\text{ln}(\\rho) - \\text{ln}(\\rho_L)] $$\n",
    "p can be solved out as \n",
    "$$ p(\\rho) = p_Le^{\\frac{\\lambda_1}{\\rho_L}-\\frac{\\lambda_1}{\\rho}} +e^{-\\frac{\\lambda_1}{\\rho}}\\int_{\\rho_L}^\\rho f_2(x) e^{\\frac{\\lambda_1}{x}}dx$$"
   ]
  },
  {
   "cell_type": "markdown",
   "metadata": {},
   "source": [
    "where $$ \\lambda_1 = \\rho_0 \\Gamma_0 \\quad f_2(\\rho) = a_0^2\\frac{\\partial f}{\\partial \\eta}- \\lambda_1\\frac{s_{xx}(\\rho)}{\\rho^2}$$\n",
    "\n",
    "$$ u_L^* = u_L - \\int_{\\rho_L}^{\\rho^*_L} \n",
    "\\frac{c}{\\rho}d\\rho$$\n",
    "and \n",
    "$$ f_L(\\rho^*_L) = u_L^*$$\n",
    "$$ g_L(\\rho^*_L) =\\sigma_L^*= -p(\\rho_L^*)+s_{xx}(\\rho_L^*)$$"
   ]
  },
  {
   "cell_type": "markdown",
   "metadata": {},
   "source": [
    "### Case 2\n",
    "The deviatoric stress satisfies \n",
    "$$| \\hat{s}_{xxL}^* | \\ge  \\frac{2}{3}Y_0   \\quad \\text{and} \\quad | s_{xxL} | \\lt  \\frac{2}{3}Y_0  $$ \n",
    "\n",
    "The density satisfies\n",
    "    $$ \\hat{\\rho}_L^* < \\rho_L$$\n",
    "   \n",
    "   <img src=\"Case2.png\" width = \"500\" height = \"500\" div align=center />"
   ]
  },
  {
   "cell_type": "markdown",
   "metadata": {},
   "source": [
    "In the region $\\widetilde{Q}_L$\n",
    "$$\n",
    "  \\widetilde{s}_{xxL} =\\frac{2}{3}Y_0\n",
    "$$\n",
    "and the density is\n",
    "$$ \\widetilde{\\rho}_L = \\rho_L \\text{exp}\\left(-\\frac{Y_0}{2\\mu}+\\frac{3 s_{xxL}}{4\\mu}\\right)$$\n"
   ]
  },
  {
   "cell_type": "markdown",
   "metadata": {},
   "source": [
    "$$ \\widetilde{p}_L = p_Le^{\\frac{\\lambda_1}{\\rho_L}-\\frac{\\lambda_1}{\\widetilde{\\rho}_L}} +e^{-\\frac{\\lambda_1}{\\widetilde{\\rho}_L}}\\int_{\\rho_L}^{\\widetilde{\\rho}_L} f_2(x) e^{\\frac{\\lambda_1}{x}}dx$$\n",
    "$$ \\widetilde{u}_L = u_L - \\int_{\\rho_L}^{\\widetilde{\\rho}_L} \n",
    "\\frac{c}{\\rho}d\\rho$$\n",
    "Then solve $Q_L^*$ as the same prossess with Case 1."
   ]
  },
  {
   "cell_type": "markdown",
   "metadata": {},
   "source": [
    "### Case 3\n",
    "The deviatoric stress satisfies \n",
    "$$| \\hat{s}_{xxL}^* | \\ge  \\frac{2}{3}Y_0   \\quad \\text{and} \\quad | s_{xxL} | \\ge  \\frac{2}{3}Y_0 \\quad  \\\\\\text{or} \\quad | \\hat{s}_{xxL}^* | \\lt  \\frac{2}{3}Y_0   \\quad \\text{and} \\quad | s_{xxL} | \\lt  \\frac{2}{3}Y_0 $$ \n",
    "The density satisfies\n",
    "    $$ \\hat{\\rho}_L^* > \\rho_L$$\n",
    "  <img src=\"Case3.png\" width = \"500\" height = \"500\" div align=center />\n",
    "\n",
    "$$\n",
    " p^*_L= \\frac{2t(c_1f(\\rho^*_L)+e_L)-(\\sigma_L+s^*_{xxL})}{2tc_0-1}\n",
    "$$\n",
    "$$  s_{xxL}^*=s_{xxL}^*(\\rho_L^*)=-\\frac{4}{3}\\mu\\text{ln}(\\frac{\\rho^*_{L}}{\\rho_{L}})+s_{xxL}\n",
    "$$\n",
    "$$ \n",
    "u_L^* = u_L - \\sqrt{\\frac{\\sigma_L-\\sigma_L^*}{t}} $$\n",
    "where $ t=\\frac{\\rho_L \\rho^*_L}{\\rho^*_L-\\rho_L}$,  $c_0=\\frac{1}{\\rho_0\\Gamma_0}$ and $c_1=\\frac{a_0^2}{\\Gamma_0}$."
   ]
  },
  {
   "cell_type": "markdown",
   "metadata": {},
   "source": [
    "$$ f_L(\\rho^*_L) = u_L^*$$\n",
    "$$ g_L(\\rho^*_L) =\\sigma_L^*= -p(\\rho_L^*)+s_{xx}(\\rho_L^*)$$"
   ]
  },
  {
   "cell_type": "markdown",
   "metadata": {},
   "source": [
    "### Case 4\n",
    "The deviatoric stress satisfies \n",
    "$$| \\hat{s}_{xxL}^* | \\ge  \\frac{2}{3}Y_0   \\quad \\text{and} \\quad | s_{xxL} | \\lt  \\frac{2}{3}Y_0  $$ \n",
    "\n",
    "The density satisfies\n",
    "    $$ \\hat{\\rho}_L^* > \\rho_L$$### Case 4\n",
    "The deviatoric stress satisfies \n",
    "$$| \\hat{s}_{xxL}^* | \\ge  \\frac{2}{3}Y_0   \\quad \\text{and} \\quad | s_{xxL} | \\lt  \\frac{2}{3}Y_0  $$ \n",
    "\n",
    "The density satisfies\n",
    "    $$ \\hat{\\rho}_L^* > \\rho_L$$\n",
    "    \n",
    "<img src=\"Case4.png\" width = \"500\" height = \"500\" div align=center />"
   ]
  },
  {
   "cell_type": "markdown",
   "metadata": {},
   "source": [
    " In the region $\\widetilde{Q}_L$\n",
    "$$\n",
    "  \\widetilde{s}_{xxL} =-\\frac{2}{3}Y_0\n",
    "$$\n",
    "and the density is\n",
    "$$ \\widetilde{\\rho}_L = \\rho_L \\text{exp}\\left(\\frac{Y_0}{2\\mu}+\\frac{3 s_{xxL}}{4\\mu}\\right)$$"
   ]
  },
  {
   "cell_type": "markdown",
   "metadata": {},
   "source": [
    "$$\\widetilde{p}_L= \\frac{2t(c_1f(\\widetilde{\\rho}_L)+e_L)-(\\sigma_L+\\widetilde{s}_{xxL})}{2tc_0-1}\n",
    "$$\n",
    "$$ \n",
    "\\widetilde{u}_L = u_L - \\sqrt{\\frac{\\sigma_L-\\widetilde{\\sigma}_L}{t}} $$"
   ]
  },
  {
   "cell_type": "markdown",
   "metadata": {},
   "source": [
    "Then solve $Q_L^*$ as the same prossess with Case 1."
   ]
  },
  {
   "cell_type": "markdown",
   "metadata": {},
   "source": [
    "# 求解$\\sigma_L^*$ 和$ u_L^*$\n",
    "Let $f_{L}(\\rho^*_L) = u_L^* $ and $g_{L}(\\rho^*_L) = \\sigma_L^*$, samilarly, we let\n",
    "$f_{R}(\\rho^*_R) = u_R^*$ and $g_{R}(\\rho^*_R) = \\sigma_R^*$, we have the relation\n",
    "\\begin{equation}\\tag{1.1}\n",
    "F(\\rho^*_L,\\rho^*_R) = f_L(\\rho^*_L) - f_R(\\rho^*_R) = 0\\\\\n",
    "G(\\rho^*_L,\\rho^*_R) = g_L(\\rho^*_L) - g_R(\\rho^*_R) = 0\n",
    "\\end{equation}"
   ]
  },
  {
   "cell_type": "markdown",
   "metadata": {},
   "source": [
    "We use the newton iteration method to evaluate $\\rho^*_L$ and $\\rho^*_R$.\n",
    "\\begin{equation}\n",
    "\\left[ \\begin{array}{l}\n",
    " \\rho _{R,(k+1)}^*\\\\\n",
    "\\rho_{L,(k+1)}^*\\\\\n",
    "\\end{array}\n",
    "\\right] = \n",
    "\\left[ \\begin{array}{l}\n",
    " \\rho _{R,(k)}^*\\\\\n",
    "\\rho_{L,(k)}^*\\\\\n",
    "\\end{array}\n",
    "\\right]-\n",
    "\\left[ \\begin{array}{ll}\n",
    "\\frac{\\partial F_{(k)}}{\\partial \\rho_R^*} & \\frac{\\partial F_{(k)}}{\\partial \\rho_L^*}\\\\\n",
    "\\frac{\\partial G_{(k)}}{\\partial \\rho_R^*} & \\frac{\\partial G_{(k)}}{\\partial \\rho_L^*}\\\\\n",
    "\\end{array}\n",
    "\\right]^{-1}\n",
    "\\left[ \\begin{array}{l}\n",
    "F_{(k)}\\\\\n",
    "G_{(k)}\\\\\n",
    "\\end{array}\n",
    "\\right]\n",
    "\\end{equation}"
   ]
  },
  {
   "cell_type": "markdown",
   "metadata": {},
   "source": [
    "from Eq.($1.1$) we can get\n",
    "\\begin{equation}\n",
    "\\left[ \\begin{array}{l}\n",
    " \\rho _{R,(k+1)}^*\\\\\n",
    "\\rho_{L,(k+1)}^*\\\\\n",
    "\\end{array}\n",
    "\\right] = \n",
    "\\left[ \\begin{array}{l}\n",
    " \\rho _{R,(k)}^*\\\\\n",
    "\\rho_{L,(k)}^*\\\\\n",
    "\\end{array}\n",
    "\\right]-\n",
    "\\left[ \\begin{array}{ll}\n",
    "-\\frac{\\partial f_{R,(k)}}{\\partial \\rho_R^*} & \\frac{\\partial f_{L,(k)}}{\\partial \\rho_L^*}\\\\\n",
    "-\\frac{\\partial g_{R,(k)}}{\\partial \\rho_R^*} & \\frac{\\partial g_{,L(k)}}{\\partial \\rho_L^*}\\\\\n",
    "\\end{array}\n",
    "\\right]^{-1}\n",
    "\\left[ \\begin{array}{l}\n",
    "F_{(k)}\\\\\n",
    "G_{(k)}\\\\\n",
    "\\end{array}\n",
    "\\right]\n",
    "\\end{equation}\n",
    "where $\\rho_{L,(k)}^*$ and $\\rho_{R,(k)}^*$ are the k-th iteration values, $F(k) = F(\\rho^*_{L,(k)},\\rho^*_{R,(k)})$,$G(k) = G(\\rho^*_{L,(k)},\\rho^*_{R,(k)})$."
   ]
  },
  {
   "cell_type": "markdown",
   "metadata": {},
   "source": [
    "#### 收敛准则\n",
    "\n",
    "The iteration procedure stops with the criterion of\n",
    "$\\text{CHA}\\le \\text{TOL}$, where \n",
    "\\begin{equation}\n",
    "\\text{CHA} = \\text{max} \\left[ \n",
    "\\frac{2|(\\rho_L^*)_{(k+1)}-(\\rho_L^*)_{(k)}|}{|(\\rho_L^*)_{(k+1)}+(\\rho_L^*)_{(k)}|}, \\frac{2|(\\rho_R^*)_{(k+1)}-(\\rho_R^*)_{(k)}|}{|(\\rho_R^*)_{(k+1)}+(\\rho_R^*)_{(k)}|}, |F_{(k)}|, |G_{(k)}| \\right]\n",
    "\\end{equation}\n",
    "and TOL is a small tolerance by numerical experiments, we take as $\\text{TOL} = 10^{-6}$."
   ]
  },
  {
   "cell_type": "markdown",
   "metadata": {},
   "source": [
    "## 数值导数\n",
    "\n",
    "$$ \\text{lim}_{\\Delta x \\rightarrow 0} \\frac{f(x+\\Delta x)-f(x)}{\\Delta x} \\rightarrow \\frac{\\partial f}{\\partial x}(x) $$"
   ]
  },
  {
   "cell_type": "markdown",
   "metadata": {},
   "source": [
    "## 数值积分\n",
    "We use the Gaussian quadradure to intergrate the integrations above.\n",
    "\n",
    "For a function $f(x)$,  the intergration from $-1$ to $1$ is given as\n",
    "$$ \n",
    "  \\int_{-1}^1 f(x)dx \\approx \\sum_{i=0}^n \\omega_i f(p_i)\n",
    "$$\n",
    "$\\omega_i$ is the weight, and $p_i$ is the integrating point.\n",
    "For different orders they are listed as\n",
    "\n",
    "|number of points,$n$| Points, $p_i$| Weights, $\\omega_i$|\n",
    "|:-----|-----:|:-----:|\n",
    "|1     |0     |2      |\n",
    "|2     |$\\pm \\frac{1}{\\sqrt{3}}$| 1|\n",
    "|3     |0, $\\pm \\sqrt{\\frac{3}{5}}$| $\\frac{8}{9}$,$\\frac{5}{9}$, $\\frac{5}{9}$|\n",
    "\n",
    "For a integral over $[x_0,x_1]$, this change of interval can be done as \n",
    " $$ \\int_{x_0}^{x_1}f(x) dx= \\frac{x_1-x_0}{2}\\int_{-1}^{1} f(\\frac{x_1-x_0}{2}x+\\frac{x_0+x_1}{2})dx\n",
    " $$"
   ]
  },
  {
   "cell_type": "code",
   "execution_count": null,
   "metadata": {},
   "outputs": [],
   "source": []
  }
 ],
 "metadata": {
  "kernelspec": {
   "display_name": "Julia 1.1.0",
   "language": "julia",
   "name": "julia-1.1"
  },
  "language_info": {
   "file_extension": ".jl",
   "mimetype": "application/julia",
   "name": "julia",
   "version": "1.1.0"
  }
 },
 "nbformat": 4,
 "nbformat_minor": 2
}
