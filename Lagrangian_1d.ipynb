{
 "cells": [
  {
   "cell_type": "code",
   "execution_count": 253,
   "metadata": {},
   "outputs": [],
   "source": [
    "struct Global\n",
    "    nv          ::Int    #boundary point\n",
    "    jx          ::Int    #cell number\n",
    "    inter       ::Int #split point of two material\n",
    "    kindProblem ::Int #kind of problem\n",
    "    tt          ::Float64      #total time\n",
    "    cfl         ::Float64     # cfl\n",
    "end\n",
    "\n",
    "struct Const\n",
    "    Y0 ::Float64\n",
    "    ρ0 ::Float64\n",
    "    Γ0 ::Float64\n",
    "    μ  ::Float64\n",
    "    a0 ::Float64\n",
    "    s0 ::Float64\n",
    "end\n",
    "\n",
    "struct BoundCon\n",
    "    ρ ::Float64\n",
    "    u ::Float64\n",
    "    p ::Float64\n",
    "    sxx::Float64\n",
    "end\n"
   ]
  },
  {
   "cell_type": "code",
   "execution_count": 254,
   "metadata": {},
   "outputs": [
    {
     "data": {
      "text/plain": [
       "initial (generic function with 1 method)"
      ]
     },
     "execution_count": 254,
     "metadata": {},
     "output_type": "execute_result"
    }
   ],
   "source": [
    "#module Initial\n",
    "#export state1, problem1\n",
    "\n",
    "    \n",
    "\n",
    "function initial()\n",
    "    \n",
    "\n",
    "    nv = 3\n",
    "    jx = 800\n",
    "    tt = 1.5e-4\n",
    "    cfl = 0.5\n",
    "    lx =1.0\n",
    "    inter=0\n",
    "    kindProblem=1\n",
    "    dx=lx/jx\n",
    "\n",
    "\n",
    "    ρ2=8930\n",
    "    u2=0.0\n",
    "    p2=1.e5\n",
    "    sxx2=0\n",
    "    \n",
    "    \n",
    "    ρ1=8930\n",
    "    u1=10.0\n",
    "    p1=1.e5\n",
    "    sxx1=0.0\n",
    "    global    rB=BoundCon(ρ2,u2,p2,sxx2)\n",
    "    global    lB=BoundCon(ρ1,u1,p1,sxx1)\n",
    "    \n",
    "    global   con = Const(9e7,8930,2.0,4.5e10,3940.0,1.49)\n",
    "    #state1=copper\n",
    "\n",
    "    u  = zeros(Float64, (jx+2nv+1,4))\n",
    "    uo = zeros(Float64, (jx+2nv+1,4))\n",
    "\n",
    "    x = [(i+0.5-nv-1)*dx for i=1:jx+2nv+1]\n",
    "\n",
    "    for i=1:jx+2nv+1 \n",
    "        uo[i,1] = ρ1\n",
    "        uo[i,2] = u2\n",
    "        uo[i,3] = p1\n",
    "        uo[i,4] = sxx1\n",
    "        u[i,:]=UoTou(uo[i,:],con)\n",
    "    end    \n",
    "\n",
    "    global   problem=Global(nv,jx,inter,kindProblem, tt,cfl)\n",
    "    return uo,u,x\n",
    "end\n",
    "\n",
    "#PyPlot.plot(x,uo[:,1:4])\n",
    "#end"
   ]
  },
  {
   "cell_type": "code",
   "execution_count": null,
   "metadata": {},
   "outputs": [],
   "source": []
  },
  {
   "cell_type": "markdown",
   "metadata": {},
   "source": [
    "$$ 1Pa = 1N/m^2 = 1 kg/(m\\cdot s^2) = 10^{-11} g/(cm \\cdot \\mu s^2)$$ \n",
    "\n",
    "$$ 1 m/s = 10^{-4} cm/\\mu s$$\n",
    "$$ 1kg/m^3 = 10^{-3} g/cm^3$$"
   ]
  },
  {
   "cell_type": "markdown",
   "metadata": {},
   "source": [
    "\n",
    "$$f(\\eta) = \\frac{(\\eta-1)(\\eta-\\Gamma_0(\\eta-1)/2)}{(\\eta-s_0(\\eta-1))^2}$$\n",
    "$$f'(\\eta) = \\frac{\\eta+(s_0-\\Gamma_0)(\\eta-1)}{(\\eta-s_0(\\eta-1))^3}$$"
   ]
  },
  {
   "cell_type": "code",
   "execution_count": 255,
   "metadata": {},
   "outputs": [
    {
     "data": {
      "text/plain": [
       "fηη (generic function with 1 method)"
      ]
     },
     "execution_count": 255,
     "metadata": {},
     "output_type": "execute_result"
    }
   ],
   "source": [
    "\n",
    "function fη(ρ::Float64,c::Const=con)\n",
    "    η = ρ/c.ρ0\n",
    "    fη=(η-1.0)*(η-c.Γ0*(η-1.0)/2.0)/(η-c.s0*(η-1))^2\n",
    "end\n",
    "\n",
    "function fηη(ρ::Float64,c::Const)\n",
    "    η = ρ/c.ρ0\n",
    "    fηη=(η+(c.s0-c.Γ0)*(η-1))/(η-c.s0*(η-1))^3\n",
    "end\n"
   ]
  },
  {
   "cell_type": "markdown",
   "metadata": {},
   "source": [
    "Mie-Gr\\\"uneisen equation of state\n",
    "$$e =\\frac{p-\\rho_0a_0^2f(\\eta)}{\\rho_0\\Gamma_0}$$\n",
    "\n",
    "$$p = \\rho_0a_0^2f(\\eta)+\\rho_0\\Gamma_0e$$"
   ]
  },
  {
   "cell_type": "code",
   "execution_count": 256,
   "metadata": {},
   "outputs": [
    {
     "data": {
      "text/plain": [
       "EToP (generic function with 1 method)"
      ]
     },
     "execution_count": 256,
     "metadata": {},
     "output_type": "execute_result"
    }
   ],
   "source": [
    "function PToe(ρ::Float64,p::Float64,con::Const)\n",
    "    c=con\n",
    "    ei = (p-c.ρ0*c.a0^2*fη(ρ,c))/(c.ρ0*c.Γ0)\n",
    "    return ei\n",
    "end\n",
    "function EToP(ρ::Float64,ei::Float64,con::Const)\n",
    "    c=con\n",
    "    p = c.ρ0*c.Γ0*ei+c.ρ0*c.a0^2*fη(ρ,c)\n",
    "    return p\n",
    "end"
   ]
  },
  {
   "cell_type": "markdown",
   "metadata": {},
   "source": [
    "$$ \\begin{aligned}\n",
    "    & \\rho = uo[1]\\\\\n",
    "    & u  = uo[2]\\\\\n",
    "    & p =uo[3]\\\\\n",
    "    & s_{xx}=uo[4]\n",
    "     \\end{aligned} \\hspace{0.3cm}\n",
    "    \\begin{aligned}\n",
    "    &U[1]=\\rho\\\\\n",
    "    &U[2]=\\rho u\\\\\n",
    "    &U[3]=\\rho E\\\\\n",
    "    &U[4]=s_{xx}\\\\\n",
    "    \\end{aligned}\n",
    "$$\n",
    "\n",
    "$$ e=E/\\rho-\\frac{1}{2}u^2$$\n"
   ]
  },
  {
   "cell_type": "code",
   "execution_count": 257,
   "metadata": {},
   "outputs": [
    {
     "data": {
      "text/plain": [
       "UoTou"
      ]
     },
     "execution_count": 257,
     "metadata": {},
     "output_type": "execute_result"
    }
   ],
   "source": [
    "\"\"\"\n",
    " from  the primitive variables uo to  conservative variables U\n",
    "\"\"\"\n",
    "function UoTou(uo::Array{Float64,1},con::Const)\n",
    "    u = zeros(Float64, 4)\n",
    "    u[1]=uo[1]\n",
    "    u[2]=uo[2]*uo[1]\n",
    "    ei = PToe(uo[1],uo[3],con)\n",
    "    u[3]=(ei+0.5uo[2]^2)*uo[1]\n",
    "    u[4]=uo[4]\n",
    "    return u\n",
    "end"
   ]
  },
  {
   "cell_type": "code",
   "execution_count": 258,
   "metadata": {},
   "outputs": [
    {
     "data": {
      "text/plain": [
       "UToUo"
      ]
     },
     "execution_count": 258,
     "metadata": {},
     "output_type": "execute_result"
    }
   ],
   "source": [
    "\"\"\"\n",
    " from conservative variables U  to  the primitive variables uo\n",
    "\"\"\"\n",
    "function UToUo(u::Array{Float64,1},con::Const)\n",
    "    uo = zeros(Float64, 4)\n",
    "    uo[1]=u[1]\n",
    "    uo[2]=u[2]/u[1]\n",
    "    ei=u[3]/uo[1]-0.5uo[2]^2\n",
    "    p = EToP(uo[1],ei,con)\n",
    "    uo[3]=p\n",
    "    uo[4]=u[4]\n",
    "    return uo\n",
    "end  "
   ]
  },
  {
   "cell_type": "markdown",
   "metadata": {},
   "source": [
    "$$ c=\\sqrt{a^2-\\frac{\\rho_0}{\\rho^2}\\Gamma_0s_{xx}+\\frac{4}{3}\\frac{\\mu}{\\rho}}$$\n",
    "$$ a^2= a_0^2 f'(\\eta)+\\frac{p}{\\rho^2}\\rho_0\\Gamma_0$$"
   ]
  },
  {
   "cell_type": "code",
   "execution_count": 259,
   "metadata": {},
   "outputs": [
    {
     "data": {
      "text/plain": [
       "Cfl (generic function with 3 methods)"
      ]
     },
     "execution_count": 259,
     "metadata": {},
     "output_type": "execute_result"
    }
   ],
   "source": [
    "function sound(uo::Array{Float64,1},con::Const=con)::Float64\n",
    "    a0  = con.a0\n",
    "    ρ0  = con.ρ0\n",
    "    Γ0  = con.Γ0\n",
    "    μ   = con.μ\n",
    "    ρ   = uo[1]\n",
    "    uu  = uo[2]\n",
    "    p   = uo[3]\n",
    "    sxx = uo[4]\n",
    "    a2  = a0^2*fηη(ρ,con)+p/ρ^2*ρ0*Γ0\n",
    "    c=sqrt(a2-ρ0/ρ^2*Γ0*sxx+4.0/3*μ/ρ)\n",
    "    return c\n",
    "end\n",
    "\n",
    "\n",
    "function Cfl(uo::Array{Float64,2},x::Array{Float64,1},problem::Global=problem,con::Const=con)\n",
    "    nv=problem.nv\n",
    "    jx=problem.jx\n",
    "    sf=problem.cfl\n",
    "    \n",
    "    dx1=0\n",
    "    dxmin=x[nv+2]-x[nv+1]\n",
    "    for i in nv+2:jx+nv+1\n",
    "        dx  = x[i]-x[i-1]\n",
    "        c = sound(uo[i,:],con)\n",
    "        dxmin = min(dx,dxmin)\n",
    "        dx1=dxmin/c\n",
    "    end\n",
    "    dt=sf*dx1\n",
    "    return dt\n",
    "end    \n"
   ]
  },
  {
   "cell_type": "code",
   "execution_count": 260,
   "metadata": {},
   "outputs": [
    {
     "data": {
      "text/plain": [
       "Wilkins (generic function with 1 method)"
      ]
     },
     "execution_count": 260,
     "metadata": {},
     "output_type": "execute_result"
    }
   ],
   "source": [
    "function Wilkins()\n",
    "    \n",
    "    nv = 3\n",
    "    jx = 800\n",
    "    tt = 5.e-6\n",
    "    cfl = 0.5\n",
    "    lx =5.e-2\n",
    "    inter=0\n",
    "    kindProblem=2\n",
    "    dx=lx/jx\n",
    "\n",
    "\n",
    "    ρ2=2785\n",
    "    u2=0.0\n",
    "    p2=1.e-6\n",
    "    sxx2=0\n",
    "    \n",
    "    \n",
    "    ρ1=2785\n",
    "    u1=800.0\n",
    "    p1=1.e-6\n",
    "    sxx1=0.0\n",
    "    global    rB=BoundCon(ρ2,u2,p2,sxx2)\n",
    "    global    lB=BoundCon(ρ1,u1,p1,sxx1)\n",
    "    \n",
    "    #global   con = Const(9e7,8930,2.0,4.5e10,3940.0,1.49)  #copper\n",
    "    \n",
    "    global   con = Const(3e8,2785,2.0,2.76e10,5328.0,1.338)  #\n",
    "\n",
    "    u  = zeros(Float64, (jx+2nv+1,4))\n",
    "    uo = zeros(Float64, (jx+2nv+1,4))\n",
    "\n",
    "    x = [(i+0.5-nv-1)*dx for i=1:jx+2nv+1]\n",
    "\n",
    "    for i=1:jx+2nv+1\n",
    "        if x[i] < 5.e-3 \n",
    "            uo[i,1] = ρ1\n",
    "            uo[i,2] = u1\n",
    "            uo[i,3] = p1\n",
    "            uo[i,4] = sxx1\n",
    "            u[i,:]=UoTou(uo[i,:],con)\n",
    "        else\n",
    "            uo[i,1] = ρ2\n",
    "            uo[i,2] = u2\n",
    "            uo[i,3] = p2\n",
    "            uo[i,4] = sxx2\n",
    "            u[i,:]=UoTou(uo[i,:],con)\n",
    "        end\n",
    "    end\n",
    "\n",
    "    global   problem=Global(nv,jx,inter,kindProblem, tt,cfl)\n",
    "    return uo,u,x\n",
    "end"
   ]
  },
  {
   "cell_type": "code",
   "execution_count": 279,
   "metadata": {},
   "outputs": [
    {
     "data": {
      "text/plain": [
       "TimeSolve (generic function with 2 methods)"
      ]
     },
     "execution_count": 279,
     "metadata": {},
     "output_type": "execute_result"
    }
   ],
   "source": [
    "function TimeSolve(uo::Array{Float64,2},u::Array{Float64,2},x::Array{Float64,1})\n",
    "#    uo,u,x=initial()\n",
    "    tt= problem.tt\n",
    "    \n",
    "    t=0\n",
    "  # while t<tt\n",
    "    #for i in 1:5\n",
    "        dt=Cfl(uo,x)\n",
    "        if t+dt>tt\n",
    "           dt = tt-t\n",
    "        end\n",
    "        t += dt\n",
    "        uo,x=R_K3(dt,uo,x)\n",
    "        println(dt,\"  \", t)\n",
    "        Plots.plot(x,uo)\n",
    "        \n",
    " #   end\n",
    "    #println(x)\n",
    "      return uo,x\n",
    "end"
   ]
  },
  {
   "cell_type": "code",
   "execution_count": 281,
   "metadata": {
    "scrolled": true
   },
   "outputs": [
    {
     "name": "stdout",
     "output_type": "stream",
     "text": [
      "4.845035279033152e-9  4.845035279033152e-9\n"
     ]
    },
    {
     "data": {
      "text/plain": [
       "807×4 Array{Float64,2}:\n",
       "  NaN    NaN    NaN           -2.0e8     \n",
       "  NaN    NaN    NaN           -2.0e8     \n",
       "  NaN    NaN    NaN           -2.0e8     \n",
       "  NaN    NaN    NaN           -2.0e8     \n",
       " 2785.0  800.0    9.7265e-7   -1.61501e-6\n",
       " 2785.0  800.0    1.85274e-5   4.99644e-6\n",
       " 2785.0  800.0    1.29687e-6  -3.17955e-6\n",
       " 2785.0  800.0   -2.4711e-5   -1.41314e-6\n",
       " 2785.0  800.0    6.48433e-7   1.21126e-6\n",
       " 2785.0  800.0    9.7265e-7    0.0       \n",
       " 2785.0  800.0    1.29687e-6  -6.56099e-7\n",
       " 2785.0  800.0    7.11915e-5  -4.69363e-6\n",
       " 2785.0  800.0    6.48433e-7   1.24154e-5\n",
       "    ⋮                                    \n",
       " 2785.0    0.0   -0.00877636   0.0       \n",
       " 2785.0    0.0    0.00877836   0.0       \n",
       " 2785.0    0.0   -0.00877636   0.0       \n",
       " 2785.0    0.0    1.0e-6       0.0       \n",
       " 2785.0    0.0    0.00877836   0.0       \n",
       " 2785.0    0.0    1.0e-6       0.0       \n",
       " 2785.0    0.0   -0.00877636   0.0       \n",
       " 2785.0    0.0    0.00877836   0.0       \n",
       " 2785.0    0.0   -0.00877636   0.0       \n",
       "  NaN    NaN    NaN           -2.0e8     \n",
       "  NaN    NaN    NaN           -2.0e8     \n",
       "  NaN    NaN    NaN           -2.0e8     "
      ]
     },
     "execution_count": 281,
     "metadata": {},
     "output_type": "execute_result"
    }
   ],
   "source": [
    "using Plots\n",
    "uo,u,x = Wilkins()\n",
    "uo,x = TimeSolve(uo,u,x)\n",
    "uo\n",
    "#PyPlot.plot(x,uo[:,1:4])\n",
    "#end\n",
    "#using Pkg\n",
    "#Pkg.add(\"PyPlot\")\n",
    "\n"
   ]
  },
  {
   "cell_type": "code",
   "execution_count": 263,
   "metadata": {},
   "outputs": [
    {
     "data": {
      "text/plain": [
       "WENO3 (generic function with 1 method)"
      ]
     },
     "execution_count": 263,
     "metadata": {},
     "output_type": "execute_result"
    }
   ],
   "source": [
    "function WENO3(u::Array{Float64,1})\n",
    "    ε = 1.e-10\n",
    "    I, = size(u)\n",
    "    uL = zeros(Float64,I)\n",
    "    uR = zeros(Float64,I)\n",
    "    for i in 2:I-1\n",
    "        IS0 = (u[i] - u[i-1])^2\n",
    "        IS1 = (u[i+1] - u[i])^2\n",
    "        \n",
    "        c0 = 2/3\n",
    "        c1 = 1/3\n",
    "        \n",
    "        α0 = c0/(ε + IS0)\n",
    "        α1 = c1/(ε + IS1)\n",
    "        \n",
    "        β0 = α0/(α0+α1)\n",
    "        β1 = α1/(α0+α1)\n",
    "        \n",
    "        uR[i-1] = β0*(u[i]+u[i-1])/2+β1*(3u[i]-u[i+1])/2\n",
    "        \n",
    "        c0 = 1/3\n",
    "        c1 = 2/3\n",
    "        \n",
    "        α0 = c0/(ε + IS0)\n",
    "        α1 = c1/(ε + IS1)\n",
    "        \n",
    "        β0 = α0/(α0+α1)\n",
    "        β1 = α1/(α0+α1)\n",
    "        \n",
    "        uL[i] = β0*(3u[i]-u[i-1])/2+β1*(u[i]+u[i+1])/2\n",
    "    end\n",
    "    return uL,uR\n",
    "end\n",
    "        "
   ]
  },
  {
   "cell_type": "code",
   "execution_count": 264,
   "metadata": {},
   "outputs": [
    {
     "data": {
      "text/plain": [
       "Upwind (generic function with 1 method)"
      ]
     },
     "execution_count": 264,
     "metadata": {},
     "output_type": "execute_result"
    }
   ],
   "source": [
    "function Upwind(u::Array{Float64,1})\n",
    "     I, = size(u)\n",
    "    uL = zeros(Float64,I)\n",
    "    uR = zeros(Float64,I)\n",
    "    for i in 2:I-1\n",
    "        uL[i] = u[i]\n",
    "        uR[i] = u[i+1]\n",
    "    end\n",
    "    return uL,uR\n",
    "end\n"
   ]
  },
  {
   "cell_type": "code",
   "execution_count": 265,
   "metadata": {},
   "outputs": [
    {
     "data": {
      "text/plain": [
       "Yυ (generic function with 2 methods)"
      ]
     },
     "execution_count": 265,
     "metadata": {},
     "output_type": "execute_result"
    }
   ],
   "source": [
    "function Yυ(s::Float64,con::Const=con)\n",
    "    Y0 = con.Y0\n",
    "    f=0\n",
    "    if abs(s) <= 2Y0/3\n",
    "        f = s\n",
    "    elseif s > 2Y0/3\n",
    "        f = 2Y0/3\n",
    "    else\n",
    "        f = -2Y0/3\n",
    "    end\n",
    "end"
   ]
  },
  {
   "cell_type": "code",
   "execution_count": 266,
   "metadata": {},
   "outputs": [
    {
     "data": {
      "text/plain": [
       "HLLCEPNew (generic function with 3 methods)"
      ]
     },
     "execution_count": 266,
     "metadata": {},
     "output_type": "execute_result"
    }
   ],
   "source": [
    "function HLLCEPNew(u::Array{Float64,1},uL::Array{Float64,2},uR::Array{Float64,2},\n",
    "        problem::Global=problem,con::Const=con)\n",
    "    Y0 = con.Y0\n",
    "    ρ0 = con.ρ0\n",
    "    Γ0 = con.Γ0\n",
    "    nv = problem.nv\n",
    "    jx = problem.nv\n",
    "    μ  = con.μ\n",
    "    I,J = size(uL)\n",
    "    f  = zeros(Float64,(I,J))\n",
    "    uuh = zeros(Float64,I)\n",
    "    \n",
    "    for i in 1+nv:I-nv\n",
    "        ρL =  uL[i,1]\n",
    "        uuL = uL[i,2]\n",
    "        pL  = uL[i,3]\n",
    "        sxxL= uL[i,4]\n",
    "        σL  = -pL+sxxL\n",
    "        cL = sound(uL[i,:])\n",
    "        eL = PToe(ρL, pL, con)\n",
    "        \n",
    "        ρR =  uR[i,1]\n",
    "        uuR = uR[i,2]\n",
    "        pR  = uR[i,3]\n",
    "        sxxR= uR[i,4]\n",
    "        σR  = -pR+sxxR\n",
    "        cR = sound(uR[i,:])\n",
    "        eR = PToe(ρR, pR, con)\n",
    "        \n",
    "        sL = min(uuL-cL, uuR-cR)\n",
    "        sR = max(uuL-cL, uuR+cR)\n",
    "        \n",
    "        s_star = (σL - σR + ρL*uuL*(sL-uuL) - ρR* uuR*(sR-uuR))/(ρL*(sL-uuL)-ρR*(sR-uuR))\n",
    "        \n",
    "        ρLstar = ρL*(uuL-sL)/(s_star - sL)\n",
    "        ρRstar = ρR*(uuR-sR)/(s_star - sR)\n",
    "        \n",
    "        tmp = -4.0μ/3*log(ρLstar/ρL) +sxxL\n",
    "        #if (abs(sxxL) < 2Y0/3 && abs(tmp) >= 2Y0/3)\n",
    "        if abs(tmp) >= 2Y0/3 \n",
    "            if tmp > 2Y0/3\n",
    "                hsxxL = 2Y0/3\n",
    "                hρL  = ρL*exp(-Y0/(2μ)+3sxxL/(4μ))\n",
    "            elseif tmp < -2/3*Y0\n",
    "                hsxxL = -2Y0/3\n",
    "                hρL  = ρL*exp(Y0/(2μ)+3sxxL/(4μ))\n",
    "            end\n",
    "            t    = ρL*hρL/(hρL-ρL)\n",
    "            c0   = 1/(ρ0*Γ0)\n",
    "            c1   = a0^2/Γ0\n",
    "            hpL   = (2t*(c1*fη(hρL,con)+eL)-(σL+hsxxL))/(2t*c0-1)\n",
    "            hσL = -hpL + hsxxL\n",
    "            if ρLstar > ρL\n",
    "               huuL = uuL -sqrt((σL-hσL)/t)\n",
    "            else\n",
    "               huuL = uuL +sqrt((σL-hσL)/t)\n",
    "            end\n",
    "            ρL   = hρL\n",
    "            uuL  = huuL\n",
    "            pL   = hpL\n",
    "            sxxL = hsxxL\n",
    "            σL   = hσL\n",
    "            ue[1] = ρL\n",
    "            ue[2] = uuL\n",
    "            ue[3] = pL\n",
    "            ue[4] = sxxL\n",
    "            cL = sound(ue,con)\n",
    "        end\n",
    "        \n",
    "        tmp = -4.0μ/3*log(ρRstar/ρR) +sxxR\n",
    "        #if (abs(sxxR) < 2Y0/3 && abs(tmp) >= 2Y0/3) \n",
    "        if abs(tmp) >= 2Y0/3\n",
    "            if tmp > 2Y0/3\n",
    "               hsxxR = 2Y0/3\n",
    "               hρR  = ρR*exp(-Y0/(2μ)+3sxxR/(4μ))\n",
    "            elseif tmp < -2/3*Y0\n",
    "               hsxxR = -2Y0/3\n",
    "               hρR  = ρR*exp(Y0/(2μ)+3sxxR/(4μ))\n",
    "            end\n",
    "            t    = ρR*hρR/(hρR-ρR)\n",
    "            c0   = 1/(ρ0*Γ0)\n",
    "            c1   = a0^2/Γ0\n",
    "           hpR   = (2t*(c1*fη(hρR,con)+eR)-(σR+hsxxR))/(2t*c0-1)\n",
    "           hσR = hpR +hsxxR\n",
    "            if ρRstar > ρR\n",
    "               huuR = uuR +sqrt((σR-hσR)/t)\n",
    "            else\n",
    "               huuR = uuR -sqrt((σR-hσR)/t)\n",
    "            end\n",
    "            ρR = hρR\n",
    "            uuR = huuR\n",
    "            pR = hpR\n",
    "            sxxR = hsxxR\n",
    "            σR = hσR\n",
    "            ue[1] = ρR\n",
    "            ue[2] = uuR\n",
    "            ue[3] = pR\n",
    "            ue[4] = sxxR\n",
    "            cR = sound(ue,con)\n",
    "        end\n",
    "        sL = min(uuL-cL,uuR-cR)\n",
    "        sR = max(uuL+cL,uuR+cR)\n",
    "        \n",
    "        s_star = (σL - σR + ρL*uuL*(sL-uuL) - ρR* uuR*(sR-uuR))/(ρL*(sL-uuL)-ρR*(sR-uuR))\n",
    "        \n",
    "        ρLstar = ρL*(uuL-sL)/(s_star - sL)\n",
    "        ρRstar = ρR*(uuR-sR)/(s_star - sR)\n",
    "        \n",
    "        tmp = -4μ/3*log(ρLstar/ρL) +sxxL\n",
    "        if tmp >= 2Y0/3\n",
    "            sxxLstar = 2Y0/3\n",
    "        elseif tmp <= -2Y0/3\n",
    "            sxxLstar  = -2Y0/3\n",
    "        else\n",
    "            sxxLstar = tmp\n",
    "        end\n",
    "        \n",
    "        tmp = -4μ/3*log(ρRstar/ρR) +sxxR\n",
    "        \n",
    "        if tmp >= 2Y0/3\n",
    "            sxxRstar = 2Y0/3\n",
    "        elseif tmp <= -2Y0/3\n",
    "            sxxRstar  = -2Y0/3\n",
    "        else\n",
    "            sxxRstar = tmp\n",
    "        end\n",
    "        \n",
    "        σstar = σL-ρL*(sL-uuL)*(s_star-uuL)\n",
    "        pLstar = sxxLstar-σstar\n",
    "        pRstar = sxxRstar-σstar\n",
    "        \n",
    "        if s_star > u[i] \n",
    "            f[i,1] = 0\n",
    "            f[i,2] = pLstar-sxxLstar\n",
    "            f[i,3] = (pLstar-sxxLstar)*s_star\n",
    "            f[i,4] = -4μ/3*s_star\n",
    "            uuh[i] = s_star\n",
    "        else\n",
    "            f[i,1] = 0\n",
    "            f[i,2] = pRstar-sxxRstar\n",
    "            f[i,3] = (pRstar-sxxRstar)*s_star\n",
    "            f[i,4] = -4μ/3*s_star\n",
    "            uuh[i] = s_star\n",
    "        end\n",
    "    end\n",
    "    return f, uuh\n",
    "end"
   ]
  },
  {
   "cell_type": "code",
   "execution_count": 267,
   "metadata": {},
   "outputs": [
    {
     "data": {
      "text/plain": [
       "HLLCEP (generic function with 3 methods)"
      ]
     },
     "execution_count": 267,
     "metadata": {},
     "output_type": "execute_result"
    }
   ],
   "source": [
    "function HLLCEP(u::Array{Float64,1},uL::Array{Float64,2},uR::Array{Float64,2},\n",
    "        problem::Global=problem,con::Const=con)\n",
    "    Y0 = con.Y0\n",
    "    ρ0 = con.ρ0\n",
    "    Γ0 = con.Γ0\n",
    "    μ  = con.μ\n",
    "    nv = problem.nv\n",
    "    jx = problem.jx\n",
    "    I,J = size(uL)\n",
    "    f  = zeros(Float64,(I,J))\n",
    "    uuh = zeros(Float64,I)\n",
    "    \n",
    "    for i in 1:I\n",
    "        ρL =  uL[i,1]\n",
    "        uuL = uL[i,2]\n",
    "        pL  = uL[i,3]\n",
    "        sxxL= uL[i,4]\n",
    "        σL  = -pL+sxxL\n",
    "        cL = sound(uL[i,:])\n",
    "        eL = PToe(ρL, pL, con)\n",
    "        \n",
    "        ρR =  uR[i,1]\n",
    "        uuR = uR[i,2]\n",
    "        pR  = uR[i,3]\n",
    "        sxxR= uR[i,4]\n",
    "        σR  = -pR+sxxR\n",
    "        cR = sound(uR[i,:])\n",
    "        eR = PToe(ρR, pR, con)\n",
    "        \n",
    "        sL = min(uuL-cL, uuR-cR)\n",
    "        sR = max(uuL+cL, uuR+cR)\n",
    "        s_barstar = (sxxR-sxxL)/(ρL*(sL-uuL)-ρR*(sR-uuR))\n",
    "        sxxL_bar = sxxL+ρL*(sL-uuL)*s_barstar\n",
    "        sxxR_bar = sxxR+ρR*(sR-uuR)*s_barstar\n",
    "        \n",
    "        sxxL_star = Yυ(sxxL_bar)\n",
    "        sxxR_star = Yυ(sxxR_bar)\n",
    "        \n",
    "        sxL_star = (sxxL_star-sxxL)/(ρL*(sL-uuL))\n",
    "        sxR_star = (sxxR_star-sxxR)/(ρR*(sR-uuR))\n",
    "        \n",
    "        \n",
    "        s_star = (pR - pL + ρL*(uuL-sxL_star)*(sL-uuL) - ρR* (uuR-sxR_star)*(sR-uuR))/(ρL*(sL-uuL)-ρR*(sR-uuR))\n",
    "        \n",
    "        pL_star = pL+ρL*(sL-uuL)*(s_star + sxL_star - uuL)\n",
    "        pR_star = pR+ρR*(sR-uuR)*(s_star + sxR_star - uuR)\n",
    "        \n",
    "        if s_star > u[i]\n",
    "            f[i,1] = 0\n",
    "            f[i,2] = pL_star-sxxL_star\n",
    "            f[i,3] = (pL_star-sxxL_star)*s_star\n",
    "            f[i,4] = -4μ/3*s_star \n",
    "            uuh[i] = s_star\n",
    "        else\n",
    "            f[i,1] = 0\n",
    "            f[i,2] = pR_star-sxxR_star\n",
    "            f[i,3] = (pR_star-sxxR_star)*s_star\n",
    "            f[i,4] = -4μ/3*s_star \n",
    "            uuh[i] = s_star\n",
    "        end\n",
    "    end\n",
    "    return f, uuh\n",
    "end\n",
    "        "
   ]
  },
  {
   "cell_type": "code",
   "execution_count": 277,
   "metadata": {},
   "outputs": [
    {
     "data": {
      "text/plain": [
       "Space (generic function with 3 methods)"
      ]
     },
     "execution_count": 277,
     "metadata": {},
     "output_type": "execute_result"
    }
   ],
   "source": [
    "function Space(uo::Array{Float64,2},problem::Global=problem,con::Const=con)\n",
    "    kind_split = 1\n",
    "    nv = problem.nv\n",
    "    h = zeros(Float64,2)\n",
    "   \n",
    "    I,J = size(uo)\n",
    "    uL=zeros(Float64,(I,J))\n",
    "    uR=zeros(Float64,(I,J))\n",
    "    f=zeros(Float64,(I,J))\n",
    "    uuh=zeros(Float64,I)\n",
    "     if kind_split==1\n",
    "        for i in 1:J\n",
    "            #uL[:,i],uR[:,i] = WENO3(uo[:,i])\n",
    "            uL[:,i],uR[:,i] = Upwind(uo[:,i])\n",
    "        end\n",
    "        h,uuh = HLLCEP(uo[:,2],uL,uR)\n",
    "     end\n",
    "    for i in 2:I-1\n",
    "        f[i,:]= h[i,:]-h[i-1,:]\n",
    "    end\n",
    "    return f,uuh\n",
    "end\n",
    "        "
   ]
  },
  {
   "cell_type": "code",
   "execution_count": 282,
   "metadata": {},
   "outputs": [
    {
     "data": {
      "text/plain": [
       "Bound (generic function with 4 methods)"
      ]
     },
     "execution_count": 282,
     "metadata": {},
     "output_type": "execute_result"
    }
   ],
   "source": [
    "function Bound(uo::Array{Float64,2},u::Array{Float64,2},lB::BoundCon=lB,rB::BoundCon=rB,problem::Global=problem)\n",
    "    kind_prb= problem.kindProblem\n",
    "    nv = problem.nv\n",
    "    jx = problem.jx\n",
    "    ρ0 = con.ρ0\n",
    "    uu = lB.u\n",
    "    ρ  = lB.ρ\n",
    "    if kind_prb == 1\n",
    "        for i in 1:nv\n",
    "            uo[i,:] = uo[nv+1,:]\n",
    "            uo[i,2] = uu\n",
    "            u[i,:] = u[nv+1,:]\n",
    "            u[i,2] = u[i,1]*uu\n",
    "            \n",
    "            uo[i+jx+nv+1,:] = uo[jx+nv+1-i,:]\n",
    "            uo[i+jx+nv+1,2] = -uo[jx+nv+1-i,2]\n",
    "            \n",
    "            u[i+jx+nv+1,:]=u[jx+nv+1-i,:]\n",
    "            u[i+jx+nv+1,2]=-u[jx+nv+1-i,2]\n",
    "        end\n",
    "    elseif kind_prb == 2\n",
    "        for i in 1:nv\n",
    "            uo[i,1] = ρ\n",
    "            uo[i,2] = uo[nv+1,2]\n",
    "            uo[i,3] = 0\n",
    "            uo[i,4] = 0\n",
    "            \n",
    "            ue[1] = ρ\n",
    "            ue[2] = u[nv+1,2]/ρ\n",
    "            ue[3] = 0\n",
    "            ue[4] = 0\n",
    "            \n",
    "            u[i,:] = UoTou(ue)\n",
    "            \n",
    "            uo[i+jx+nv+1,:] = uo[jx+nv+1-i,:]\n",
    "            \n",
    "            u[i+jx+nv+1,:] = u[jx+nv+1-i,:]\n",
    "        end  \n",
    "    end\n",
    "    return uo,u\n",
    "end"
   ]
  },
  {
   "cell_type": "code",
   "execution_count": 270,
   "metadata": {
    "scrolled": false
   },
   "outputs": [
    {
     "data": {
      "text/plain": [
       "R_K3 (generic function with 5 methods)"
      ]
     },
     "execution_count": 270,
     "metadata": {},
     "output_type": "execute_result"
    }
   ],
   "source": [
    "#function R_K(dt::Float64,uo::Array{Float64,2},x::Array{Float64,1},lB::BoundCon=lB,rB::BoundCon=rB,problem::Global=problem,con::Const=con,order::Int8=3)\n",
    "#    if order==3\n",
    "#       uo,x = R_K3(dt,uo,x)\n",
    "#    end\n",
    "#    return uo,x\n",
    "#end\n",
    "function R_K3(dt::Float64,uo::Array{Float64,2},x::Array{Float64,1},\n",
    "        lB::BoundCon=lB,rB::BoundCon=rB,problem::Global=problem,con::Const=con)\n",
    "    μ = con.μ\n",
    "    I,J=size(uo)\n",
    "    dx = zeros(Float64,I)\n",
    "    udx= zeros(Float64,(I,J))\n",
    "    u= zeros(Float64,(I,J))\n",
    "    for i in 2:I\n",
    "        dx[i] =x[i]-x[i-1]\n",
    "    end\n",
    "    dx[1] =dx[2]\n",
    "    \n",
    "    for i in 1:I    \n",
    "        u[i,1:4]=UoTou(uo[i,1:4],con)\n",
    "        udx[i,1:3]=u[i,1:3]*dx[i]\n",
    "        udx[i,4] =u[i,4]\n",
    "    end \n",
    "    \n",
    "    uo,u = Bound!(uo,u)\n",
    "#****************1**********************    \n",
    "    f,uuh=Space(uo)   \n",
    "    #x1 = zeros(Float64,I) \n",
    "    \n",
    "    udx1 = zeros(Float64,(I,J))\n",
    "    x1   = zeros(Float64,I)\n",
    "    for i in 1:I\n",
    "        x1[i] = x[i] + dt*uuh[i]\n",
    "        udx1[i,4] = udx[i,4] -dt*f[i,4]/dx[i]\n",
    "    end\n",
    "    \n",
    "    for i in 2:I\n",
    "        dx[i] =x1[i]-x1[i-1]\n",
    "    end\n",
    "    dx[1] =dx[2]\n",
    "    for i in 1:I\n",
    "        ρ1 = u[i,1]\n",
    "        udx1[i,1:3] = udx[i,1:3] -dt*f[i,1:3]\n",
    "        u[i,1:3] = udx1[i,1:3]/dx[i]\n",
    "        u[i,4]=  udx1[i,4]\n",
    "        u[i,4]= Yυ(u[i,4])\n",
    "        uo[i,:] = UToUo(u[i,:],con)\n",
    "    end\n",
    "    \n",
    "    uo,u = Bound!(uo,u)\n",
    "# #***************2***********************    \n",
    "    \n",
    "    f,uuh = Space(uo)\n",
    "    \n",
    "    udx2 = zeros(Float64,(I,J))\n",
    "    x2   = zeros(Float64,I)\n",
    "   \n",
    "    for i in 1:I\n",
    "        x2[i] = 3/4*x[i] +1/4*x1[i]+1/4*dt*uuh[i]\n",
    "        udx2[i,4] = 3/4*udx[i,4]+1/4*udx1[i,4] -1/4*dt*f[i,4]/dx[i]\n",
    "    end\n",
    "   \n",
    "    for i in 2:I\n",
    "        dx[i] =x2[i]-x2[i-1]\n",
    "    end\n",
    "    dx[1] =dx[2]\n",
    "    \n",
    "    for i in 1:I\n",
    "        udx2[i,1:3] = 3/4*udx[i,1:3]+1/4*udx1[i,1:3] -1/4*dt*f[i,1:3]\n",
    "        u[i,1:3] = udx2[i,1:3]/dx[i]\n",
    "        u[i,4]   = udx2[i,4]\n",
    "        u[i,4]= Yυ(u[i,4])\n",
    "        uo[i,:] = UToUo(u[i,:],con)\n",
    "    end    \n",
    "    uo,u = Bound!(uo,u)\n",
    "  #***************3**********************   \n",
    "    f,uuh = Space(uo)\n",
    "  \n",
    "   for i in 1:I\n",
    "       x[i] = 1/3*x[i] +2/3*x2[i]+2/3*dt*uuh[i]\n",
    "        udx[i,4] = 1/3*udx[i,4]+2/3*udx2[i,4] -2/3*dt*f[i,4]/dx[i]\n",
    "    end\n",
    "    for i in 2:I\n",
    "        dx[i] = x[i]-x[i-1]\n",
    "    end\n",
    "    dx[1] =dx[2]\n",
    "    \n",
    "    \n",
    "    for i in 1:I\n",
    "        udx[i,1:3] = 1/3*udx[i,1:3]+2/3*udx2[i,1:3] -2/3*dt*f[i,1:3]\n",
    "        u[i,1:3] = udx[i,1:3]/dx[i]\n",
    "        u[i,4]=udx[i,4]\n",
    "        u[i,4]= Yυ(u[i,4])\n",
    "        uo[i,:] = UToUo(u[i,:],con)\n",
    "     end\n",
    "    uo,u = Bound!(uo,u)\n",
    "    \n",
    "    return uo,x\n",
    "end\n",
    "\n",
    "    \n",
    "    \n",
    "    "
   ]
  },
  {
   "cell_type": "code",
   "execution_count": 271,
   "metadata": {},
   "outputs": [
    {
     "data": {
      "text/plain": [
       "test1 (generic function with 1 method)"
      ]
     },
     "execution_count": 271,
     "metadata": {},
     "output_type": "execute_result"
    }
   ],
   "source": [
    "function test()\n",
    "    x = 0.0\n",
    "    for i in 1:5\n",
    "        x = test1!(x)\n",
    "    end\n",
    "    return x\n",
    "end\n",
    "\n",
    "function test1(x)\n",
    "    x = x+1\n",
    "    return x\n",
    "end\n",
    "    \n",
    "    "
   ]
  },
  {
   "cell_type": "code",
   "execution_count": 272,
   "metadata": {},
   "outputs": [
    {
     "data": {
      "text/plain": [
       "5.0"
      ]
     },
     "execution_count": 272,
     "metadata": {},
     "output_type": "execute_result"
    }
   ],
   "source": [
    "x=test()"
   ]
  },
  {
   "cell_type": "code",
   "execution_count": 273,
   "metadata": {},
   "outputs": [
    {
     "data": {
      "text/plain": [
       "5.0"
      ]
     },
     "execution_count": 273,
     "metadata": {},
     "output_type": "execute_result"
    }
   ],
   "source": [
    "x"
   ]
  },
  {
   "cell_type": "code",
   "execution_count": null,
   "metadata": {},
   "outputs": [],
   "source": []
  }
 ],
 "metadata": {
  "kernelspec": {
   "display_name": "Julia 1.0.0",
   "language": "julia",
   "name": "julia-1.0"
  },
  "language_info": {
   "file_extension": ".jl",
   "mimetype": "application/julia",
   "name": "julia",
   "version": "1.0.0"
  }
 },
 "nbformat": 4,
 "nbformat_minor": 2
}
